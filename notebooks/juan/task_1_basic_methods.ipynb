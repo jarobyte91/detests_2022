{
 "cells": [
  {
   "cell_type": "code",
   "execution_count": 1,
   "id": "213bfdf9",
   "metadata": {},
   "outputs": [
    {
     "name": "stdout",
     "output_type": "stream",
     "text": [
      "/lustre06/project/6001735/detests_2022/notebooks/juan\r\n"
     ]
    }
   ],
   "source": [
    "!pwd"
   ]
  },
  {
   "cell_type": "code",
   "execution_count": 18,
   "id": "568f8189",
   "metadata": {},
   "outputs": [],
   "source": [
    "import pandas as pd\n",
    "import numpy as np\n",
    "from sklearn.feature_extraction.text import CountVectorizer, TfidfVectorizer\n",
    "from sklearn.ensemble import RandomForestClassifier\n",
    "from sklearn.model_selection import train_test_split\n",
    "from sklearn.metrics import precision_score, recall_score, accuracy_score, precision_recall_curve, f1_score\n",
    "from sklearn.linear_model import LogisticRegression\n",
    "from sklearn.svm import SVC\n",
    "# from nltk.corpus import stopwords\n",
    "import matplotlib.pyplot as plt\n",
    "import importlib\n",
    "from scipy import sparse"
   ]
  },
  {
   "cell_type": "code",
   "execution_count": 3,
   "id": "59a743c8",
   "metadata": {},
   "outputs": [],
   "source": [
    "import sys\n",
    "sys.path.append(\"../../library\")\n",
    "from juan import *\n",
    "import utils\n",
    "import juan"
   ]
  },
  {
   "cell_type": "markdown",
   "id": "9f8939cd",
   "metadata": {},
   "source": [
    "# basic word-level random forest"
   ]
  },
  {
   "cell_type": "code",
   "execution_count": 4,
   "id": "fdd002a3",
   "metadata": {},
   "outputs": [
    {
     "data": {
      "text/html": [
       "<div>\n",
       "<style scoped>\n",
       "    .dataframe tbody tr th:only-of-type {\n",
       "        vertical-align: middle;\n",
       "    }\n",
       "\n",
       "    .dataframe tbody tr th {\n",
       "        vertical-align: top;\n",
       "    }\n",
       "\n",
       "    .dataframe thead th {\n",
       "        text-align: right;\n",
       "    }\n",
       "</style>\n",
       "<table border=\"1\" class=\"dataframe\">\n",
       "  <thead>\n",
       "    <tr style=\"text-align: right;\">\n",
       "      <th></th>\n",
       "      <th>sentence</th>\n",
       "      <th>task_1</th>\n",
       "    </tr>\n",
       "  </thead>\n",
       "  <tbody>\n",
       "    <tr>\n",
       "      <th>0</th>\n",
       "      <td>La solución es desarrollar el pensamiento crít...</td>\n",
       "      <td>False</td>\n",
       "    </tr>\n",
       "    <tr>\n",
       "      <th>1</th>\n",
       "      <td>Hay que enseñar que la magia no existe.</td>\n",
       "      <td>False</td>\n",
       "    </tr>\n",
       "    <tr>\n",
       "      <th>2</th>\n",
       "      <td>Que todos los avances de la humanidad siempre ...</td>\n",
       "      <td>False</td>\n",
       "    </tr>\n",
       "    <tr>\n",
       "      <th>3</th>\n",
       "      <td>Enseñar en las escuelas la historia de las rel...</td>\n",
       "      <td>False</td>\n",
       "    </tr>\n",
       "    <tr>\n",
       "      <th>4</th>\n",
       "      <td>Desde las religiones de la edad de piedra hast...</td>\n",
       "      <td>False</td>\n",
       "    </tr>\n",
       "  </tbody>\n",
       "</table>\n",
       "</div>"
      ],
      "text/plain": [
       "                                            sentence  task_1\n",
       "0  La solución es desarrollar el pensamiento crít...   False\n",
       "1           Hay que enseñar que la magia no existe.    False\n",
       "2  Que todos los avances de la humanidad siempre ...   False\n",
       "3  Enseñar en las escuelas la historia de las rel...   False\n",
       "4  Desde las religiones de la edad de piedra hast...   False"
      ]
     },
     "execution_count": 4,
     "metadata": {},
     "output_type": "execute_result"
    }
   ],
   "source": [
    "data = pd.read_csv(\"../../data/task_1.csv\")\n",
    "data.head()"
   ]
  },
  {
   "cell_type": "markdown",
   "id": "797d72b0",
   "metadata": {},
   "source": [
    "# words"
   ]
  },
  {
   "cell_type": "code",
   "execution_count": 5,
   "id": "6c094d7b",
   "metadata": {},
   "outputs": [
    {
     "data": {
      "text/plain": [
       "(3817, 987)"
      ]
     },
     "execution_count": 5,
     "metadata": {},
     "output_type": "execute_result"
    }
   ],
   "source": [
    "vectorizer = TfidfVectorizer(\n",
    "    ngram_range = (1, 2),\n",
    "    min_df = 10\n",
    ")\n",
    "features_word = vectorizer.fit_transform(data.sentence)\n",
    "features_word.shape"
   ]
  },
  {
   "cell_type": "code",
   "execution_count": 6,
   "id": "36178501",
   "metadata": {
    "scrolled": false
   },
   "outputs": [
    {
     "name": "stdout",
     "output_type": "stream",
     "text": [
      "Cross-validation process started...\n",
      "*** column 1 / 1 (task_1) - fold 1 / 5\n",
      "    training model...\n",
      "    generating predictions on the train set...\n",
      "    generating predictions on the test set...\n",
      "    Total runtime: 0.00 minutes\n",
      "*** column 1 / 1 (task_1) - fold 2 / 5\n",
      "    training model...\n",
      "    generating predictions on the train set...\n",
      "    generating predictions on the test set...\n",
      "    Total runtime: 0.00 minutes\n",
      "*** column 1 / 1 (task_1) - fold 3 / 5\n",
      "    training model...\n",
      "    generating predictions on the train set...\n",
      "    generating predictions on the test set...\n",
      "    Total runtime: 0.00 minutes\n",
      "*** column 1 / 1 (task_1) - fold 4 / 5\n",
      "    training model...\n",
      "    generating predictions on the train set...\n",
      "    generating predictions on the test set...\n",
      "    Total runtime: 0.00 minutes\n",
      "*** column 1 / 1 (task_1) - fold 5 / 5\n",
      "    training model...\n",
      "    generating predictions on the train set...\n",
      "    generating predictions on the test set...\n",
      "    Total runtime: 0.00 minutes\n",
      "test_accuracy      0.811894\n",
      "test_f1            0.357639\n",
      "test_precision     0.813064\n",
      "test_recall        0.229642\n",
      "train_accuracy     0.838486\n",
      "train_f1           0.474856\n",
      "train_precision    0.919946\n",
      "train_recall       0.320032\n",
      "dtype: float64\n"
     ]
    }
   ],
   "source": [
    "importlib.reload(juan)\n",
    "importlib.reload(utils)\n",
    "clf = juan.CustomLogisticRegression()\n",
    "results = utils.validate(features_word, data.task_1.to_frame(), clf, verbose = True)\n",
    "print(results.mean())\n",
    "\n",
    "results.to_csv(\"../../results/task_1/data/lr_word.csv\")"
   ]
  },
  {
   "cell_type": "code",
   "execution_count": 7,
   "id": "63b49b4f",
   "metadata": {
    "scrolled": false
   },
   "outputs": [
    {
     "name": "stdout",
     "output_type": "stream",
     "text": [
      "Cross-validation process started...\n",
      "*** column 1 / 1 (task_1) - fold 1 / 5\n",
      "    training model...\n",
      "    generating predictions on the train set...\n",
      "    generating predictions on the test set...\n",
      "    Total runtime: 0.01 minutes\n",
      "*** column 1 / 1 (task_1) - fold 2 / 5\n",
      "    training model...\n",
      "    generating predictions on the train set...\n",
      "    generating predictions on the test set...\n",
      "    Total runtime: 0.03 minutes\n",
      "*** column 1 / 1 (task_1) - fold 3 / 5\n",
      "    training model...\n",
      "    generating predictions on the train set...\n",
      "    generating predictions on the test set...\n",
      "    Total runtime: 0.04 minutes\n",
      "*** column 1 / 1 (task_1) - fold 4 / 5\n",
      "    training model...\n",
      "    generating predictions on the train set...\n",
      "    generating predictions on the test set...\n",
      "    Total runtime: 0.06 minutes\n",
      "*** column 1 / 1 (task_1) - fold 5 / 5\n",
      "    training model...\n",
      "    generating predictions on the train set...\n",
      "    generating predictions on the test set...\n",
      "    Total runtime: 0.07 minutes\n",
      "test_accuracy      0.822897\n",
      "test_f1            0.441354\n",
      "test_precision     0.791089\n",
      "test_recall        0.307691\n",
      "train_accuracy     0.997053\n",
      "train_f1           0.993510\n",
      "train_precision    0.998265\n",
      "train_recall       0.988806\n",
      "dtype: float64\n"
     ]
    }
   ],
   "source": [
    "importlib.reload(juan)\n",
    "importlib.reload(utils)\n",
    "clf = juan.CustomRandomForestClassifier()\n",
    "results = utils.validate(\n",
    "    features_word, data.task_1.to_frame(), clf, \n",
    "    verbose = True\n",
    ")\n",
    "print(results.mean())\n",
    "\n",
    "results.to_csv(\"../../results/task_1/data/rf_word.csv\")"
   ]
  },
  {
   "cell_type": "code",
   "execution_count": 8,
   "id": "049ceaca",
   "metadata": {
    "scrolled": false
   },
   "outputs": [
    {
     "name": "stdout",
     "output_type": "stream",
     "text": [
      "Cross-validation process started...\n",
      "*** column 1 / 1 (task_1) - fold 1 / 5\n",
      "    training model...\n",
      "    generating predictions on the train set...\n",
      "    generating predictions on the test set...\n",
      "    Total runtime: 0.02 minutes\n",
      "*** column 1 / 1 (task_1) - fold 2 / 5\n",
      "    training model...\n",
      "    generating predictions on the train set...\n",
      "    generating predictions on the test set...\n",
      "    Total runtime: 0.04 minutes\n",
      "*** column 1 / 1 (task_1) - fold 3 / 5\n",
      "    training model...\n",
      "    generating predictions on the train set...\n",
      "    generating predictions on the test set...\n",
      "    Total runtime: 0.07 minutes\n",
      "*** column 1 / 1 (task_1) - fold 4 / 5\n",
      "    training model...\n",
      "    generating predictions on the train set...\n",
      "    generating predictions on the test set...\n",
      "    Total runtime: 0.09 minutes\n",
      "*** column 1 / 1 (task_1) - fold 5 / 5\n",
      "    training model...\n",
      "    generating predictions on the train set...\n",
      "    generating predictions on the test set...\n",
      "    Total runtime: 0.11 minutes\n",
      "test_accuracy      0.817133\n",
      "test_f1            0.368777\n",
      "test_precision     0.870467\n",
      "test_recall        0.234200\n",
      "train_accuracy     0.929722\n",
      "train_f1           0.818088\n",
      "train_precision    0.999174\n",
      "train_recall       0.692596\n",
      "dtype: float64\n"
     ]
    }
   ],
   "source": [
    "importlib.reload(juan)\n",
    "importlib.reload(utils)\n",
    "clf = juan.CustomSVC()\n",
    "results = utils.validate(features_word, data.task_1.to_frame(), clf, verbose = True)\n",
    "print(results.mean())\n",
    "\n",
    "results.to_csv(\"../../results/task_1/data/svm_word.csv\")"
   ]
  },
  {
   "cell_type": "code",
   "execution_count": null,
   "id": "0ab483d3",
   "metadata": {},
   "outputs": [],
   "source": []
  },
  {
   "cell_type": "markdown",
   "id": "5608d412",
   "metadata": {},
   "source": [
    "# chars"
   ]
  },
  {
   "cell_type": "code",
   "execution_count": 9,
   "id": "042afe70",
   "metadata": {},
   "outputs": [
    {
     "data": {
      "text/plain": [
       "(3817, 7781)"
      ]
     },
     "execution_count": 9,
     "metadata": {},
     "output_type": "execute_result"
    }
   ],
   "source": [
    "vectorizer = TfidfVectorizer(\n",
    "    analyzer = \"char\",\n",
    "    ngram_range = (3, 4),\n",
    "    min_df = 10\n",
    ")\n",
    "features_char = vectorizer.fit_transform(data.sentence)\n",
    "features_char.shape"
   ]
  },
  {
   "cell_type": "code",
   "execution_count": 10,
   "id": "e0e0c8e9",
   "metadata": {},
   "outputs": [
    {
     "name": "stdout",
     "output_type": "stream",
     "text": [
      "Cross-validation process started...\n",
      "*** column 1 / 1 (task_1) - fold 1 / 5\n",
      "    training model...\n",
      "    generating predictions on the train set...\n",
      "    generating predictions on the test set...\n",
      "    Total runtime: 0.00 minutes\n",
      "*** column 1 / 1 (task_1) - fold 2 / 5\n",
      "    training model...\n",
      "    generating predictions on the train set...\n",
      "    generating predictions on the test set...\n",
      "    Total runtime: 0.00 minutes\n",
      "*** column 1 / 1 (task_1) - fold 3 / 5\n",
      "    training model...\n",
      "    generating predictions on the train set...\n",
      "    generating predictions on the test set...\n",
      "    Total runtime: 0.01 minutes\n",
      "*** column 1 / 1 (task_1) - fold 4 / 5\n",
      "    training model...\n",
      "    generating predictions on the train set...\n",
      "    generating predictions on the test set...\n",
      "    Total runtime: 0.01 minutes\n",
      "*** column 1 / 1 (task_1) - fold 5 / 5\n",
      "    training model...\n",
      "    generating predictions on the train set...\n",
      "    generating predictions on the test set...\n",
      "    Total runtime: 0.01 minutes\n",
      "test_accuracy      0.824992\n",
      "test_f1            0.434557\n",
      "test_precision     0.828359\n",
      "test_recall        0.295034\n",
      "train_accuracy     0.864554\n",
      "train_f1           0.595049\n",
      "train_precision    0.936016\n",
      "train_recall       0.436281\n",
      "dtype: float64\n"
     ]
    }
   ],
   "source": [
    "importlib.reload(juan)\n",
    "importlib.reload(utils)\n",
    "clf = juan.CustomLogisticRegression()\n",
    "results = utils.validate(features_char, data.task_1.to_frame(), clf, verbose = True)\n",
    "print(results.mean())\n",
    "\n",
    "results.to_csv(\"../../results/task_1/data/lr_char.csv\")"
   ]
  },
  {
   "cell_type": "code",
   "execution_count": 11,
   "id": "0eccec68",
   "metadata": {},
   "outputs": [
    {
     "name": "stdout",
     "output_type": "stream",
     "text": [
      "Cross-validation process started...\n",
      "*** column 1 / 1 (task_1) - fold 1 / 5\n",
      "    training model...\n",
      "    generating predictions on the train set...\n",
      "    generating predictions on the test set...\n",
      "    Total runtime: 0.03 minutes\n",
      "*** column 1 / 1 (task_1) - fold 2 / 5\n",
      "    training model...\n",
      "    generating predictions on the train set...\n",
      "    generating predictions on the test set...\n",
      "    Total runtime: 0.06 minutes\n",
      "*** column 1 / 1 (task_1) - fold 3 / 5\n",
      "    training model...\n",
      "    generating predictions on the train set...\n",
      "    generating predictions on the test set...\n",
      "    Total runtime: 0.09 minutes\n",
      "*** column 1 / 1 (task_1) - fold 4 / 5\n",
      "    training model...\n",
      "    generating predictions on the train set...\n",
      "    generating predictions on the test set...\n",
      "    Total runtime: 0.12 minutes\n",
      "*** column 1 / 1 (task_1) - fold 5 / 5\n",
      "    training model...\n",
      "    generating predictions on the train set...\n",
      "    generating predictions on the test set...\n",
      "    Total runtime: 0.15 minutes\n",
      "test_accuracy      0.832854\n",
      "test_f1            0.476048\n",
      "test_precision     0.832093\n",
      "test_recall        0.334056\n",
      "train_accuracy     0.999803\n",
      "train_f1           0.999569\n",
      "train_precision    1.000000\n",
      "train_recall       0.999139\n",
      "dtype: float64\n"
     ]
    }
   ],
   "source": [
    "importlib.reload(juan)\n",
    "importlib.reload(utils)\n",
    "clf = juan.CustomRandomForestClassifier()\n",
    "results = utils.validate(features_char, data.task_1.to_frame(), clf, verbose = True)\n",
    "print(results.mean())\n",
    "\n",
    "results.to_csv(\"../../results/task_1/data/rf_char.csv\")"
   ]
  },
  {
   "cell_type": "code",
   "execution_count": 12,
   "id": "193a3881",
   "metadata": {},
   "outputs": [
    {
     "name": "stdout",
     "output_type": "stream",
     "text": [
      "Cross-validation process started...\n",
      "*** column 1 / 1 (task_1) - fold 1 / 5\n",
      "    training model...\n",
      "    generating predictions on the train set...\n",
      "    generating predictions on the test set...\n",
      "    Total runtime: 0.19 minutes\n",
      "*** column 1 / 1 (task_1) - fold 2 / 5\n",
      "    training model...\n",
      "    generating predictions on the train set...\n",
      "    generating predictions on the test set...\n",
      "    Total runtime: 0.38 minutes\n",
      "*** column 1 / 1 (task_1) - fold 3 / 5\n",
      "    training model...\n",
      "    generating predictions on the train set...\n",
      "    generating predictions on the test set...\n",
      "    Total runtime: 0.57 minutes\n",
      "*** column 1 / 1 (task_1) - fold 4 / 5\n",
      "    training model...\n",
      "    generating predictions on the train set...\n",
      "    generating predictions on the test set...\n",
      "    Total runtime: 0.76 minutes\n",
      "*** column 1 / 1 (task_1) - fold 5 / 5\n",
      "    training model...\n",
      "    generating predictions on the train set...\n",
      "    generating predictions on the test set...\n",
      "    Total runtime: 0.95 minutes\n",
      "test_accuracy      0.837570\n",
      "test_f1            0.593685\n",
      "test_precision     0.691926\n",
      "test_recall        0.520105\n",
      "train_accuracy     0.990241\n",
      "train_f1           0.979054\n",
      "train_precision    0.959500\n",
      "train_recall       0.999426\n",
      "dtype: float64\n"
     ]
    }
   ],
   "source": [
    "importlib.reload(juan)\n",
    "importlib.reload(utils)\n",
    "clf = juan.CustomSVC(class_weight = \"balanced\")\n",
    "results = utils.validate(features_char, data.task_1.to_frame(), clf, verbose = True)\n",
    "print(results.mean())\n",
    "\n",
    "results.to_csv(\"../../results/task_1/data/svm_char.csv\")"
   ]
  },
  {
   "cell_type": "markdown",
   "id": "1fa57eb0",
   "metadata": {},
   "source": [
    "# regularizing logistic regression"
   ]
  },
  {
   "cell_type": "code",
   "execution_count": 13,
   "id": "0b71d959",
   "metadata": {},
   "outputs": [
    {
     "name": "stdout",
     "output_type": "stream",
     "text": [
      "Cross-validation process started...\n",
      "*** column 1 / 1 (task_1) - fold 1 / 5\n",
      "    training model...\n",
      "    generating predictions on the train set...\n",
      "    generating predictions on the test set...\n",
      "    Total runtime: 0.00 minutes\n",
      "*** column 1 / 1 (task_1) - fold 2 / 5\n",
      "    training model...\n",
      "    generating predictions on the train set...\n",
      "    generating predictions on the test set...\n",
      "    Total runtime: 0.00 minutes\n",
      "*** column 1 / 1 (task_1) - fold 3 / 5\n",
      "    training model...\n",
      "    generating predictions on the train set...\n",
      "    generating predictions on the test set...\n",
      "    Total runtime: 0.00 minutes\n",
      "*** column 1 / 1 (task_1) - fold 4 / 5\n",
      "    training model...\n",
      "    generating predictions on the train set...\n",
      "    generating predictions on the test set...\n",
      "    Total runtime: 0.00 minutes\n",
      "*** column 1 / 1 (task_1) - fold 5 / 5\n",
      "    training model...\n",
      "    generating predictions on the train set...\n",
      "    generating predictions on the test set...\n",
      "    Total runtime: 0.00 minutes\n",
      "test_accuracy      0.791199\n",
      "test_f1            0.601323\n",
      "test_precision     0.533021\n",
      "test_recall        0.690043\n",
      "train_accuracy     0.834097\n",
      "train_f1           0.686104\n",
      "train_precision    0.603772\n",
      "train_recall       0.794489\n",
      "dtype: float64\n"
     ]
    }
   ],
   "source": [
    "importlib.reload(juan)\n",
    "importlib.reload(utils)\n",
    "clf = juan.CustomLogisticRegression(\n",
    "    class_weight = \"balanced\", \n",
    "    C = 2**-3, \n",
    "#     penalty = \"l1\", \n",
    "#     solver = \"liblinear\"\n",
    ")\n",
    "results = utils.validate(features_char, data.task_1.to_frame(), clf, verbose = True)\n",
    "print(results.mean())\n",
    "\n",
    "results.to_csv(\"../../results/task_1/data/lr_char_l2.csv\")"
   ]
  },
  {
   "cell_type": "code",
   "execution_count": 14,
   "id": "bf668aaa",
   "metadata": {},
   "outputs": [
    {
     "name": "stdout",
     "output_type": "stream",
     "text": [
      "Cross-validation process started...\n",
      "*** column 1 / 1 (task_1) - fold 1 / 5\n",
      "    training model...\n",
      "    generating predictions on the train set...\n",
      "    generating predictions on the test set...\n",
      "    Total runtime: 0.00 minutes\n",
      "*** column 1 / 1 (task_1) - fold 2 / 5\n",
      "    training model...\n",
      "    generating predictions on the train set...\n",
      "    generating predictions on the test set...\n",
      "    Total runtime: 0.00 minutes\n",
      "*** column 1 / 1 (task_1) - fold 3 / 5\n",
      "    training model...\n",
      "    generating predictions on the train set...\n",
      "    generating predictions on the test set...\n",
      "    Total runtime: 0.00 minutes\n",
      "*** column 1 / 1 (task_1) - fold 4 / 5\n",
      "    training model...\n",
      "    generating predictions on the train set...\n",
      "    generating predictions on the test set...\n",
      "    Total runtime: 0.00 minutes\n",
      "*** column 1 / 1 (task_1) - fold 5 / 5\n",
      "    training model...\n",
      "    generating predictions on the train set...\n",
      "    generating predictions on the test set...\n",
      "    Total runtime: 0.00 minutes\n",
      "test_accuracy      0.763949\n",
      "test_f1            0.567208\n",
      "test_precision     0.488080\n",
      "test_recall        0.677379\n",
      "train_accuracy     0.777704\n",
      "train_f1           0.595996\n",
      "train_precision    0.509274\n",
      "train_recall       0.718425\n",
      "dtype: float64\n"
     ]
    }
   ],
   "source": [
    "importlib.reload(juan)\n",
    "importlib.reload(utils)\n",
    "clf = juan.CustomLogisticRegression(\n",
    "    class_weight = \"balanced\", \n",
    "    C = 2**-1, \n",
    "    penalty = \"l1\", \n",
    "    solver = \"liblinear\"\n",
    ")\n",
    "results = utils.validate(features_char, data.task_1.to_frame(), clf, verbose = True)\n",
    "print(results.mean())\n",
    "\n",
    "results.to_csv(\"../../results/task_1/data/lr_char_l1.csv\")"
   ]
  },
  {
   "cell_type": "markdown",
   "id": "ce3ed948",
   "metadata": {},
   "source": [
    "# regularized svm"
   ]
  },
  {
   "cell_type": "code",
   "execution_count": 15,
   "id": "1eef7c4b",
   "metadata": {},
   "outputs": [
    {
     "name": "stdout",
     "output_type": "stream",
     "text": [
      "Cross-validation process started...\n",
      "*** column 1 / 1 (task_1) - fold 1 / 5\n",
      "    training model...\n",
      "    generating predictions on the train set...\n",
      "    generating predictions on the test set...\n",
      "    Total runtime: 0.19 minutes\n",
      "*** column 1 / 1 (task_1) - fold 2 / 5\n",
      "    training model...\n",
      "    generating predictions on the train set...\n",
      "    generating predictions on the test set...\n",
      "    Total runtime: 0.38 minutes\n",
      "*** column 1 / 1 (task_1) - fold 3 / 5\n",
      "    training model...\n",
      "    generating predictions on the train set...\n",
      "    generating predictions on the test set...\n",
      "    Total runtime: 0.57 minutes\n",
      "*** column 1 / 1 (task_1) - fold 4 / 5\n",
      "    training model...\n",
      "    generating predictions on the train set...\n",
      "    generating predictions on the test set...\n",
      "    Total runtime: 0.77 minutes\n",
      "*** column 1 / 1 (task_1) - fold 5 / 5\n",
      "    training model...\n",
      "    generating predictions on the train set...\n",
      "    generating predictions on the test set...\n",
      "    Total runtime: 0.96 minutes\n",
      "test_accuracy      0.832331\n",
      "test_f1            0.614391\n",
      "test_precision     0.647452\n",
      "test_recall        0.585570\n",
      "train_accuracy     0.961619\n",
      "train_f1           0.920844\n",
      "train_precision    0.869889\n",
      "train_recall       0.978187\n",
      "dtype: float64\n"
     ]
    }
   ],
   "source": [
    "importlib.reload(juan)\n",
    "importlib.reload(utils)\n",
    "clf = juan.CustomSVC(\n",
    "    class_weight = \"balanced\",\n",
    "    C = 2 ** -1\n",
    ")\n",
    "results = utils.validate(features_char, data.task_1.to_frame(), clf, verbose = True)\n",
    "print(results.mean())\n",
    "\n",
    "results.to_csv(\"../../results/task_1/data/svm_char_2-1.csv\")"
   ]
  },
  {
   "cell_type": "code",
   "execution_count": 16,
   "id": "ae91e1b8",
   "metadata": {},
   "outputs": [
    {
     "name": "stdout",
     "output_type": "stream",
     "text": [
      "Cross-validation process started...\n",
      "*** column 1 / 1 (task_1) - fold 1 / 5\n",
      "    training model...\n",
      "    generating predictions on the train set...\n",
      "    generating predictions on the test set...\n",
      "    Total runtime: 0.19 minutes\n",
      "*** column 1 / 1 (task_1) - fold 2 / 5\n",
      "    training model...\n",
      "    generating predictions on the train set...\n",
      "    generating predictions on the test set...\n",
      "    Total runtime: 0.38 minutes\n",
      "*** column 1 / 1 (task_1) - fold 3 / 5\n",
      "    training model...\n",
      "    generating predictions on the train set...\n",
      "    generating predictions on the test set...\n",
      "    Total runtime: 0.57 minutes\n",
      "*** column 1 / 1 (task_1) - fold 4 / 5\n",
      "    training model...\n",
      "    generating predictions on the train set...\n",
      "    generating predictions on the test set...\n",
      "    Total runtime: 0.76 minutes\n",
      "*** column 1 / 1 (task_1) - fold 5 / 5\n",
      "    training model...\n",
      "    generating predictions on the train set...\n",
      "    generating predictions on the test set...\n",
      "    Total runtime: 0.95 minutes\n",
      "test_accuracy      0.837832\n",
      "test_f1            0.601357\n",
      "test_precision     0.685011\n",
      "test_recall        0.536171\n",
      "train_accuracy     0.987425\n",
      "train_f1           0.973171\n",
      "train_precision    0.948263\n",
      "train_recall       0.999426\n",
      "dtype: float64\n"
     ]
    }
   ],
   "source": [
    "importlib.reload(juan)\n",
    "importlib.reload(utils)\n",
    "clf = juan.CustomSVC(\n",
    "    class_weight = \"balanced\",\n",
    "    C = 0.9\n",
    ")\n",
    "results = utils.validate(features_char, data.task_1.to_frame(), clf, verbose = True)\n",
    "print(results.mean())\n",
    "\n",
    "results.to_csv(\"../../results/task_1/data/svm_char_09.csv\")"
   ]
  },
  {
   "cell_type": "code",
   "execution_count": 17,
   "id": "80f7e2ad",
   "metadata": {},
   "outputs": [
    {
     "name": "stdout",
     "output_type": "stream",
     "text": [
      "Cross-validation process started...\n",
      "*** column 1 / 1 (task_1) - fold 1 / 5\n",
      "    training model...\n",
      "    generating predictions on the train set...\n",
      "    generating predictions on the test set...\n",
      "    Total runtime: 0.20 minutes\n",
      "*** column 1 / 1 (task_1) - fold 2 / 5\n",
      "    training model...\n",
      "    generating predictions on the train set...\n",
      "    generating predictions on the test set...\n",
      "    Total runtime: 0.40 minutes\n",
      "*** column 1 / 1 (task_1) - fold 3 / 5\n",
      "    training model...\n",
      "    generating predictions on the train set...\n",
      "    generating predictions on the test set...\n",
      "    Total runtime: 0.60 minutes\n",
      "*** column 1 / 1 (task_1) - fold 4 / 5\n",
      "    training model...\n",
      "    generating predictions on the train set...\n",
      "    generating predictions on the test set...\n",
      "    Total runtime: 0.80 minutes\n",
      "*** column 1 / 1 (task_1) - fold 5 / 5\n",
      "    training model...\n",
      "    generating predictions on the train set...\n",
      "    generating predictions on the test set...\n",
      "    Total runtime: 1.00 minutes\n",
      "test_accuracy      0.821850\n",
      "test_f1            0.595685\n",
      "test_precision     0.618632\n",
      "test_recall        0.575238\n",
      "train_accuracy     0.925138\n",
      "train_f1           0.843414\n",
      "train_precision    0.806866\n",
      "train_recall       0.883467\n",
      "dtype: float64\n"
     ]
    }
   ],
   "source": [
    "importlib.reload(juan)\n",
    "importlib.reload(utils)\n",
    "clf = juan.CustomSVC(\n",
    "    class_weight = \"balanced\",\n",
    "    C = 2 ** -2\n",
    ")\n",
    "results = utils.validate(features_char, data.task_1.to_frame(), clf, verbose = True)\n",
    "print(results.mean())\n",
    "\n",
    "results.to_csv(\"../../results/task_1/data/svm_char_2-2.csv\")"
   ]
  },
  {
   "cell_type": "markdown",
   "id": "adc0a542",
   "metadata": {},
   "source": [
    "# combining words and chars"
   ]
  },
  {
   "cell_type": "code",
   "execution_count": 30,
   "id": "8690b5fe",
   "metadata": {},
   "outputs": [
    {
     "data": {
      "text/plain": [
       "(3817, 8768)"
      ]
     },
     "execution_count": 30,
     "metadata": {},
     "output_type": "execute_result"
    }
   ],
   "source": [
    "features_full = sparse.hstack((features_word, features_char)).tocsr()\n",
    "features_full.shape"
   ]
  },
  {
   "cell_type": "code",
   "execution_count": 41,
   "id": "111d4f98",
   "metadata": {},
   "outputs": [
    {
     "name": "stdout",
     "output_type": "stream",
     "text": [
      "Cross-validation process started...\n",
      "*** column 1 / 1 (task_1) - fold 1 / 5\n",
      "    training model...\n",
      "    generating predictions on the train set...\n",
      "    generating predictions on the test set...\n",
      "    Total runtime: 0.00 minutes\n",
      "*** column 1 / 1 (task_1) - fold 2 / 5\n",
      "    training model...\n",
      "    generating predictions on the train set...\n",
      "    generating predictions on the test set...\n",
      "    Total runtime: 0.00 minutes\n",
      "*** column 1 / 1 (task_1) - fold 3 / 5\n",
      "    training model...\n",
      "    generating predictions on the train set...\n",
      "    generating predictions on the test set...\n",
      "    Total runtime: 0.00 minutes\n",
      "*** column 1 / 1 (task_1) - fold 4 / 5\n",
      "    training model...\n",
      "    generating predictions on the train set...\n",
      "    generating predictions on the test set...\n",
      "    Total runtime: 0.01 minutes\n",
      "*** column 1 / 1 (task_1) - fold 5 / 5\n",
      "    training model...\n",
      "    generating predictions on the train set...\n",
      "    generating predictions on the test set...\n",
      "    Total runtime: 0.01 minutes\n",
      "test_accuracy      0.811374\n",
      "test_f1            0.613514\n",
      "test_precision     0.576863\n",
      "test_recall        0.655599\n",
      "train_accuracy     0.927102\n",
      "train_f1           0.855923\n",
      "train_precision    0.779542\n",
      "train_recall       0.948909\n",
      "dtype: float64\n"
     ]
    }
   ],
   "source": [
    "importlib.reload(juan)\n",
    "importlib.reload(utils)\n",
    "clf = juan.CustomLogisticRegression(\n",
    "    class_weight = \"balanced\",\n",
    "#     C = 2**-3, \n",
    ")\n",
    "results = utils.validate(features_full, data.task_1.to_frame(), clf, verbose = True)\n",
    "print(results.mean())\n",
    "\n",
    "results.to_csv(\"../../results/task_1/data/lr_word+char.csv\")"
   ]
  },
  {
   "cell_type": "code",
   "execution_count": 42,
   "id": "623faf7c",
   "metadata": {},
   "outputs": [
    {
     "name": "stdout",
     "output_type": "stream",
     "text": [
      "Cross-validation process started...\n",
      "*** column 1 / 1 (task_1) - fold 1 / 5\n",
      "    training model...\n",
      "    generating predictions on the train set...\n",
      "    generating predictions on the test set...\n",
      "    Total runtime: 0.03 minutes\n",
      "*** column 1 / 1 (task_1) - fold 2 / 5\n",
      "    training model...\n",
      "    generating predictions on the train set...\n",
      "    generating predictions on the test set...\n",
      "    Total runtime: 0.06 minutes\n",
      "*** column 1 / 1 (task_1) - fold 3 / 5\n",
      "    training model...\n",
      "    generating predictions on the train set...\n",
      "    generating predictions on the test set...\n",
      "    Total runtime: 0.08 minutes\n",
      "*** column 1 / 1 (task_1) - fold 4 / 5\n",
      "    training model...\n",
      "    generating predictions on the train set...\n",
      "    generating predictions on the test set...\n",
      "    Total runtime: 0.11 minutes\n",
      "*** column 1 / 1 (task_1) - fold 5 / 5\n",
      "    training model...\n",
      "    generating predictions on the train set...\n",
      "    generating predictions on the test set...\n",
      "    Total runtime: 0.14 minutes\n",
      "test_accuracy      0.823947\n",
      "test_f1            0.449621\n",
      "test_precision     0.782781\n",
      "test_recall        0.316847\n",
      "train_accuracy     0.999803\n",
      "train_f1           0.999570\n",
      "train_precision    0.999140\n",
      "train_recall       1.000000\n",
      "dtype: float64\n"
     ]
    }
   ],
   "source": [
    "importlib.reload(juan)\n",
    "importlib.reload(utils)\n",
    "clf = juan.CustomRandomForestClassifier(\n",
    "    class_weight = \"balanced\",\n",
    "#     C = 2 ** -2\n",
    ")\n",
    "results = utils.validate(features_full, data.task_1.to_frame(), clf, verbose = True)\n",
    "print(results.mean())\n",
    "\n",
    "results.to_csv(\"../../results/task_1/data/rf_word+char.csv\")"
   ]
  },
  {
   "cell_type": "code",
   "execution_count": 43,
   "id": "25bb2093",
   "metadata": {},
   "outputs": [
    {
     "name": "stdout",
     "output_type": "stream",
     "text": [
      "Cross-validation process started...\n",
      "*** column 1 / 1 (task_1) - fold 1 / 5\n",
      "    training model...\n",
      "    generating predictions on the train set...\n",
      "    generating predictions on the test set...\n",
      "    Total runtime: 0.21 minutes\n",
      "*** column 1 / 1 (task_1) - fold 2 / 5\n",
      "    training model...\n",
      "    generating predictions on the train set...\n",
      "    generating predictions on the test set...\n",
      "    Total runtime: 0.42 minutes\n",
      "*** column 1 / 1 (task_1) - fold 3 / 5\n",
      "    training model...\n",
      "    generating predictions on the train set...\n",
      "    generating predictions on the test set...\n",
      "    Total runtime: 0.64 minutes\n",
      "*** column 1 / 1 (task_1) - fold 4 / 5\n",
      "    training model...\n",
      "    generating predictions on the train set...\n",
      "    generating predictions on the test set...\n",
      "    Total runtime: 0.85 minutes\n",
      "*** column 1 / 1 (task_1) - fold 5 / 5\n",
      "    training model...\n",
      "    generating predictions on the train set...\n",
      "    generating predictions on the test set...\n",
      "    Total runtime: 1.06 minutes\n",
      "test_accuracy      0.837830\n",
      "test_f1            0.588574\n",
      "test_precision     0.699059\n",
      "test_recall        0.508585\n",
      "train_accuracy     0.991420\n",
      "train_f1           0.981538\n",
      "train_precision    0.964283\n",
      "train_recall       0.999426\n",
      "dtype: float64\n"
     ]
    }
   ],
   "source": [
    "importlib.reload(juan)\n",
    "importlib.reload(utils)\n",
    "clf = juan.CustomSVC(\n",
    "    class_weight = \"balanced\",\n",
    "#     C = 2 ** -1\n",
    ")\n",
    "results = utils.validate(features_full, data.task_1.to_frame(), clf, verbose = True)\n",
    "print(results.mean())\n",
    "\n",
    "results.to_csv(\"../../results/task_1/data/svm_word+char.csv\")"
   ]
  },
  {
   "cell_type": "markdown",
   "id": "9151139a",
   "metadata": {},
   "source": [
    "# ensemble"
   ]
  },
  {
   "cell_type": "code",
   "execution_count": 58,
   "id": "08fb6597",
   "metadata": {},
   "outputs": [
    {
     "name": "stdout",
     "output_type": "stream",
     "text": [
      "Cross-validation process started...\n",
      "*** column 1 / 1 (task_1) - fold 1 / 5\n",
      "    training model...\n",
      "    generating predictions on the train set...\n",
      "    generating predictions on the test set...\n",
      "    Total runtime: 0.53 minutes\n",
      "*** column 1 / 1 (task_1) - fold 2 / 5\n",
      "    training model...\n",
      "    generating predictions on the train set...\n",
      "    generating predictions on the test set...\n",
      "    Total runtime: 1.09 minutes\n",
      "*** column 1 / 1 (task_1) - fold 3 / 5\n",
      "    training model...\n",
      "    generating predictions on the train set...\n",
      "    generating predictions on the test set...\n",
      "    Total runtime: 1.64 minutes\n",
      "*** column 1 / 1 (task_1) - fold 4 / 5\n",
      "    training model...\n",
      "    generating predictions on the train set...\n",
      "    generating predictions on the test set...\n",
      "    Total runtime: 2.19 minutes\n",
      "*** column 1 / 1 (task_1) - fold 5 / 5\n",
      "    training model...\n",
      "    generating predictions on the train set...\n",
      "    generating predictions on the test set...\n",
      "    Total runtime: 2.75 minutes\n",
      "test_accuracy      0.835213\n",
      "test_f1            0.588979\n",
      "test_precision     0.683520\n",
      "test_recall        0.517806\n",
      "train_accuracy     0.957296\n",
      "train_f1           0.909140\n",
      "train_precision    0.883548\n",
      "train_recall       0.936280\n",
      "dtype: float64\n"
     ]
    }
   ],
   "source": [
    "importlib.reload(juan)\n",
    "importlib.reload(utils)\n",
    "clf = juan.Ensemble()\n",
    "results = utils.validate(features_char, data.task_1.to_frame(), clf, verbose = True)\n",
    "print(results.mean())\n",
    "\n",
    "results.to_csv(\"../../results/task_1/data/ensemble.csv\")"
   ]
  },
  {
   "cell_type": "code",
   "execution_count": 59,
   "id": "bdff52ac",
   "metadata": {},
   "outputs": [],
   "source": [
    "results.to_csv(\"../../results/task_1/data/lr+csv_char_ensemble.csv\")"
   ]
  },
  {
   "cell_type": "code",
   "execution_count": 53,
   "id": "660e3321",
   "metadata": {},
   "outputs": [
    {
     "data": {
      "text/plain": [
       "LogisticRegression(class_weight='balanced')"
      ]
     },
     "execution_count": 53,
     "metadata": {},
     "output_type": "execute_result"
    }
   ],
   "source": [
    "clf.lr.fit(features_char, data.task_1)"
   ]
  },
  {
   "cell_type": "code",
   "execution_count": 54,
   "id": "2dd595b3",
   "metadata": {},
   "outputs": [
    {
     "data": {
      "text/plain": [
       "SVC(class_weight='balanced', probability=True)"
      ]
     },
     "execution_count": 54,
     "metadata": {},
     "output_type": "execute_result"
    }
   ],
   "source": [
    "clf.svc.fit(features_word, data.task_1)"
   ]
  },
  {
   "cell_type": "code",
   "execution_count": 55,
   "id": "9c8709a3",
   "metadata": {},
   "outputs": [
    {
     "data": {
      "text/plain": [
       "array([[0.84711621, 0.15288379],\n",
       "       [0.90595454, 0.09404546],\n",
       "       [0.79696347, 0.20303653],\n",
       "       ...,\n",
       "       [0.89381163, 0.10618837],\n",
       "       [0.89300886, 0.10699114],\n",
       "       [0.89038957, 0.10961043]])"
      ]
     },
     "execution_count": 55,
     "metadata": {},
     "output_type": "execute_result"
    }
   ],
   "source": [
    "clf.predecir(features_full)"
   ]
  },
  {
   "cell_type": "code",
   "execution_count": null,
   "id": "9eafc2f2",
   "metadata": {},
   "outputs": [],
   "source": []
  }
 ],
 "metadata": {
  "kernelspec": {
   "display_name": "Python 3 (ipykernel)",
   "language": "python",
   "name": "python3"
  },
  "language_info": {
   "codemirror_mode": {
    "name": "ipython",
    "version": 3
   },
   "file_extension": ".py",
   "mimetype": "text/x-python",
   "name": "python",
   "nbconvert_exporter": "python",
   "pygments_lexer": "ipython3",
   "version": "3.8.10"
  }
 },
 "nbformat": 4,
 "nbformat_minor": 5
}
