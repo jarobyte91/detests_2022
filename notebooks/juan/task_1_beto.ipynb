{
 "cells": [
  {
   "cell_type": "code",
   "execution_count": 1,
   "id": "969dbe14",
   "metadata": {},
   "outputs": [],
   "source": [
    "import transformers\n",
    "import pandas as pd\n",
    "# from datasets import load_dataset, load_dataset_builder, Dataset\n",
    "import torch\n",
    "import importlib\n",
    "import numpy as np\n",
    "import torch.utils.data as tud\n",
    "import torch.nn as nn\n",
    "from tqdm import tqdm"
   ]
  },
  {
   "cell_type": "code",
   "execution_count": 2,
   "id": "ffd51147",
   "metadata": {},
   "outputs": [],
   "source": [
    "import sys\n",
    "sys.path.append(\"../../library\")\n",
    "from juan import *\n",
    "import utils\n",
    "import juan"
   ]
  },
  {
   "cell_type": "code",
   "execution_count": 3,
   "id": "b1e162e8",
   "metadata": {},
   "outputs": [
    {
     "name": "stdout",
     "output_type": "stream",
     "text": [
      "(3817, 2)\n"
     ]
    },
    {
     "data": {
      "text/html": [
       "<div>\n",
       "<style scoped>\n",
       "    .dataframe tbody tr th:only-of-type {\n",
       "        vertical-align: middle;\n",
       "    }\n",
       "\n",
       "    .dataframe tbody tr th {\n",
       "        vertical-align: top;\n",
       "    }\n",
       "\n",
       "    .dataframe thead th {\n",
       "        text-align: right;\n",
       "    }\n",
       "</style>\n",
       "<table border=\"1\" class=\"dataframe\">\n",
       "  <thead>\n",
       "    <tr style=\"text-align: right;\">\n",
       "      <th></th>\n",
       "      <th>sentence</th>\n",
       "      <th>task_1</th>\n",
       "    </tr>\n",
       "  </thead>\n",
       "  <tbody>\n",
       "    <tr>\n",
       "      <th>0</th>\n",
       "      <td>La solución es desarrollar el pensamiento crít...</td>\n",
       "      <td>False</td>\n",
       "    </tr>\n",
       "    <tr>\n",
       "      <th>1</th>\n",
       "      <td>Hay que enseñar que la magia no existe.</td>\n",
       "      <td>False</td>\n",
       "    </tr>\n",
       "    <tr>\n",
       "      <th>2</th>\n",
       "      <td>Que todos los avances de la humanidad siempre ...</td>\n",
       "      <td>False</td>\n",
       "    </tr>\n",
       "    <tr>\n",
       "      <th>3</th>\n",
       "      <td>Enseñar en las escuelas la historia de las rel...</td>\n",
       "      <td>False</td>\n",
       "    </tr>\n",
       "    <tr>\n",
       "      <th>4</th>\n",
       "      <td>Desde las religiones de la edad de piedra hast...</td>\n",
       "      <td>False</td>\n",
       "    </tr>\n",
       "  </tbody>\n",
       "</table>\n",
       "</div>"
      ],
      "text/plain": [
       "                                            sentence  task_1\n",
       "0  La solución es desarrollar el pensamiento crít...   False\n",
       "1           Hay que enseñar que la magia no existe.    False\n",
       "2  Que todos los avances de la humanidad siempre ...   False\n",
       "3  Enseñar en las escuelas la historia de las rel...   False\n",
       "4  Desde las religiones de la edad de piedra hast...   False"
      ]
     },
     "execution_count": 3,
     "metadata": {},
     "output_type": "execute_result"
    }
   ],
   "source": [
    "data = pd.read_csv(\"../../data/task_1.csv\")\n",
    "show(data)"
   ]
  },
  {
   "cell_type": "code",
   "execution_count": 4,
   "id": "250c19ff",
   "metadata": {},
   "outputs": [],
   "source": [
    "# %%time\n",
    "# tokenizer = transformers.AutoTokenizer.from_pretrained(\"beto/tokenizer\")"
   ]
  },
  {
   "cell_type": "code",
   "execution_count": 5,
   "id": "bbdf3116",
   "metadata": {},
   "outputs": [],
   "source": [
    "# tokenizer.save_pretrained(\"beto/tokenizer/\")"
   ]
  },
  {
   "cell_type": "code",
   "execution_count": 6,
   "id": "a84ad8c5",
   "metadata": {},
   "outputs": [],
   "source": [
    "# %%time\n",
    "# model = transformers.AutoModelForSequenceClassification.from_pretrained(\"dccuchile/bert-base-spanish-wwm-uncased\", num_labels = 2)"
   ]
  },
  {
   "cell_type": "code",
   "execution_count": 7,
   "id": "882f2114",
   "metadata": {},
   "outputs": [],
   "source": [
    "# model.save_pretrained(\"beto/model\")"
   ]
  },
  {
   "cell_type": "code",
   "execution_count": 8,
   "id": "af0d6d56",
   "metadata": {},
   "outputs": [
    {
     "name": "stdout",
     "output_type": "stream",
     "text": [
      "CPU times: user 102 ms, sys: 45.4 ms, total: 147 ms\n",
      "Wall time: 287 ms\n"
     ]
    }
   ],
   "source": [
    "%%time\n",
    "tokenizer = transformers.AutoTokenizer.from_pretrained(\"../../assets/beto/tokenizer\")"
   ]
  },
  {
   "cell_type": "code",
   "execution_count": 9,
   "id": "b493203e",
   "metadata": {},
   "outputs": [
    {
     "data": {
      "text/plain": [
       "device(type='cuda')"
      ]
     },
     "execution_count": 9,
     "metadata": {},
     "output_type": "execute_result"
    }
   ],
   "source": [
    "device = torch.device(\"cuda\" if torch.cuda.is_available() else \"cpu\")\n",
    "device"
   ]
  },
  {
   "cell_type": "code",
   "execution_count": 12,
   "id": "7745da5f",
   "metadata": {
    "scrolled": false
   },
   "outputs": [
    {
     "name": "stderr",
     "output_type": "stream",
     "text": [
      "Some weights of the model checkpoint at ../../assets/beto/model were not used when initializing BertModel: ['classifier.bias', 'classifier.weight']\n",
      "- This IS expected if you are initializing BertModel from the checkpoint of a model trained on another task or with another architecture (e.g. initializing a BertForSequenceClassification model from a BertForPreTraining model).\n",
      "- This IS NOT expected if you are initializing BertModel from the checkpoint of a model that you expect to be exactly identical (initializing a BertForSequenceClassification model from a BertForSequenceClassification model).\n"
     ]
    },
    {
     "name": "stdout",
     "output_type": "stream",
     "text": [
      "Cross-validation process started...\n",
      "*** column 1 / 1 (task_1) - fold 1 / 5\n",
      "    training model...\n",
      "tensor([ 1.0959, 11.4286], device='cuda:0')\n",
      "      first step, train loss:1.2101\n",
      "      epoch:   1, train loss:0.5357, train accuracy: 0.8625\n",
      "      epoch:   2, train loss:0.1926, train accuracy: 0.9625\n",
      "      epoch:   3, train loss:0.1057, train accuracy: 0.9750\n",
      "      epoch:   4, train loss:0.0455, train accuracy: 1.0000\n",
      "      epoch:   5, train loss:0.0157, train accuracy: 1.0000\n",
      "    generating predictions on the train set...\n",
      "    generating predictions on the test set...\n",
      "    Total runtime: 0.11 minutes\n",
      "*** column 1 / 1 (task_1) - fold 2 / 5\n",
      "    training model...\n",
      "tensor([ 1.0959, 11.4286], device='cuda:0')\n",
      "      first step, train loss:1.0417\n",
      "      epoch:   1, train loss:0.5938, train accuracy: 0.8500\n",
      "      epoch:   2, train loss:0.2200, train accuracy: 0.9625\n",
      "      epoch:   3, train loss:0.0769, train accuracy: 0.9875\n",
      "      epoch:   4, train loss:0.0296, train accuracy: 1.0000\n",
      "      epoch:   5, train loss:0.0160, train accuracy: 1.0000\n",
      "    generating predictions on the train set...\n",
      "    generating predictions on the test set...\n",
      "    Total runtime: 0.21 minutes\n",
      "*** column 1 / 1 (task_1) - fold 3 / 5\n",
      "    training model...\n",
      "tensor([ 1.0811, 13.3333], device='cuda:0')\n",
      "      first step, train loss:0.8555\n",
      "      epoch:   1, train loss:0.4187, train accuracy: 0.8625\n",
      "      epoch:   2, train loss:0.1718, train accuracy: 0.9625\n",
      "      epoch:   3, train loss:0.0508, train accuracy: 1.0000\n",
      "      epoch:   4, train loss:0.0143, train accuracy: 1.0000\n",
      "      epoch:   5, train loss:0.0085, train accuracy: 1.0000\n",
      "    generating predictions on the train set...\n",
      "    generating predictions on the test set...\n",
      "    Total runtime: 0.32 minutes\n",
      "*** column 1 / 1 (task_1) - fold 4 / 5\n",
      "    training model...\n",
      "tensor([ 1.0811, 13.3333], device='cuda:0')\n",
      "      first step, train loss:0.9366\n",
      "      epoch:   1, train loss:0.4830, train accuracy: 0.8625\n",
      "      epoch:   2, train loss:0.1700, train accuracy: 0.9625\n",
      "      epoch:   3, train loss:0.0430, train accuracy: 1.0000\n",
      "      epoch:   4, train loss:0.0140, train accuracy: 1.0000\n",
      "      epoch:   5, train loss:0.0089, train accuracy: 1.0000\n",
      "    generating predictions on the train set...\n",
      "    generating predictions on the test set...\n",
      "    Total runtime: 0.42 minutes\n",
      "*** column 1 / 1 (task_1) - fold 5 / 5\n",
      "    training model...\n",
      "tensor([ 1.0811, 13.3333], device='cuda:0')\n",
      "      first step, train loss:1.0855\n",
      "      epoch:   1, train loss:0.5162, train accuracy: 0.8625\n",
      "      epoch:   2, train loss:0.1900, train accuracy: 0.9625\n",
      "      epoch:   3, train loss:0.0714, train accuracy: 1.0000\n",
      "      epoch:   4, train loss:0.0195, train accuracy: 1.0000\n",
      "      epoch:   5, train loss:0.0134, train accuracy: 1.0000\n",
      "    generating predictions on the train set...\n",
      "    generating predictions on the test set...\n",
      "    Total runtime: 0.53 minutes\n"
     ]
    },
    {
     "data": {
      "text/html": [
       "<div>\n",
       "<style scoped>\n",
       "    .dataframe tbody tr th:only-of-type {\n",
       "        vertical-align: middle;\n",
       "    }\n",
       "\n",
       "    .dataframe tbody tr th {\n",
       "        vertical-align: top;\n",
       "    }\n",
       "\n",
       "    .dataframe thead th {\n",
       "        text-align: right;\n",
       "    }\n",
       "</style>\n",
       "<table border=\"1\" class=\"dataframe\">\n",
       "  <thead>\n",
       "    <tr style=\"text-align: right;\">\n",
       "      <th></th>\n",
       "      <th>test_accuracy</th>\n",
       "      <th>test_f1</th>\n",
       "      <th>test_precision</th>\n",
       "      <th>test_recall</th>\n",
       "      <th>train_accuracy</th>\n",
       "      <th>train_f1</th>\n",
       "      <th>train_precision</th>\n",
       "      <th>train_recall</th>\n",
       "    </tr>\n",
       "    <tr>\n",
       "      <th>column</th>\n",
       "      <th></th>\n",
       "      <th></th>\n",
       "      <th></th>\n",
       "      <th></th>\n",
       "      <th></th>\n",
       "      <th></th>\n",
       "      <th></th>\n",
       "      <th></th>\n",
       "    </tr>\n",
       "  </thead>\n",
       "  <tbody>\n",
       "    <tr>\n",
       "      <th>task_1</th>\n",
       "      <td>0.94</td>\n",
       "      <td>0.333333</td>\n",
       "      <td>0.4</td>\n",
       "      <td>0.3</td>\n",
       "      <td>1.0</td>\n",
       "      <td>1.0</td>\n",
       "      <td>1.0</td>\n",
       "      <td>1.0</td>\n",
       "    </tr>\n",
       "  </tbody>\n",
       "</table>\n",
       "</div>"
      ],
      "text/plain": [
       "        test_accuracy   test_f1  test_precision  test_recall  train_accuracy  \\\n",
       "column                                                                         \n",
       "task_1           0.94  0.333333             0.4          0.3             1.0   \n",
       "\n",
       "        train_f1  train_precision  train_recall  \n",
       "column                                           \n",
       "task_1       1.0              1.0           1.0  "
      ]
     },
     "execution_count": 12,
     "metadata": {},
     "output_type": "execute_result"
    }
   ],
   "source": [
    "model = transformers.AutoModel.from_pretrained(\"../../assets/beto/model\")\n",
    "model.to(device)\n",
    "\n",
    "X = data.sentence.head(100)\n",
    "y = data.task_1.to_frame(100)\n",
    "\n",
    "importlib.reload(juan)\n",
    "importlib.reload(utils)\n",
    "clf = juan.Beto(tokenizer, model)\n",
    "clf.to(device)\n",
    "# clf.entrenar(\n",
    "#     data.sentence.head(100), \n",
    "#     data.task_1.head(100), \n",
    "#     epochs = 5,\n",
    "# #     freeze_encoder = True,\n",
    "# #     weight_decay = 1000,\n",
    "#     class_weights = \"balanced\"\n",
    "# )\n",
    "\n",
    "# predictions = clf.predecir(data.sentence)\n",
    "\n",
    "results = utils.validate(\n",
    "    data.sentence.head(100), \n",
    "    data.task_1.to_frame().head(100), \n",
    "    clf, \n",
    "    epochs = 5,\n",
    "#     freeze_encoder = True,\n",
    "    progress_bar = False,\n",
    "#     weight_decay = 100,\n",
    "    class_weights = \"balanced\"\n",
    ")\n",
    "results"
   ]
  },
  {
   "cell_type": "code",
   "execution_count": null,
   "id": "436e13e2",
   "metadata": {},
   "outputs": [],
   "source": []
  }
 ],
 "metadata": {
  "kernelspec": {
   "display_name": "Python 3 (ipykernel)",
   "language": "python",
   "name": "python3"
  },
  "language_info": {
   "codemirror_mode": {
    "name": "ipython",
    "version": 3
   },
   "file_extension": ".py",
   "mimetype": "text/x-python",
   "name": "python",
   "nbconvert_exporter": "python",
   "pygments_lexer": "ipython3",
   "version": "3.8.10"
  }
 },
 "nbformat": 4,
 "nbformat_minor": 5
}
