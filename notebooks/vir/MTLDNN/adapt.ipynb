{
 "cells": [
  {
   "cell_type": "code",
   "execution_count": 1,
   "metadata": {},
   "outputs": [],
   "source": [
    "import pandas as pd\n",
    "import numpy as np\n",
    "import matplotlib.pyplot as plt\n",
    "from data import load_data\n",
    "\n",
    "from tensorflow import keras\n",
    "import tensorflow as tf\n",
    "from tensorflow.keras.models import Sequential, Model\n",
    "from tensorflow.keras.layers import Dense, Dropout, Activation, BatchNormalization, Input\n",
    "from tensorflow.keras.callbacks import EarlyStopping, ModelCheckpoint,Callback\n",
    "from tensorflow.keras.regularizers import l2\n",
    "from tensorflow.keras.optimizers import Adam\n",
    "from tensorflow.keras.losses import BinaryCrossentropy\n",
    "\n",
    "from tensorflow.keras import utils\n",
    "from tensorflow.keras import losses\n",
    "from tensorflow.keras import backend as K"
   ]
  },
  {
   "cell_type": "code",
   "execution_count": 42,
   "metadata": {},
   "outputs": [],
   "source": [
    "import importlib"
   ]
  },
  {
   "cell_type": "code",
   "execution_count": 37,
   "metadata": {},
   "outputs": [],
   "source": [
    "import sys\n",
    "sys.path.append(\"../../library\")"
   ]
  },
  {
   "cell_type": "code",
   "execution_count": 45,
   "metadata": {},
   "outputs": [],
   "source": [
    "import utils"
   ]
  },
  {
   "cell_type": "code",
   "execution_count": 29,
   "metadata": {},
   "outputs": [],
   "source": [
    "class MTLDNN:\n",
    "    def __init__(self, ni, params):\n",
    "        self.model = MTLDNN.build_model(ni, params)\n",
    "        \n",
    "    def set_seed(s):\n",
    "        # 0. clear backend session\n",
    "        K.clear_session()\n",
    "        \n",
    "        # 1. Set `PYTHONHASHSEED` environment variable at a fixed value\n",
    "        import os\n",
    "        os.environ['PYTHONHASHSEED']=str(s)\n",
    "\n",
    "        # 2. Set `python` built-in pseudo-random generator at a fixed value\n",
    "        import random\n",
    "        random.seed(s)\n",
    "\n",
    "        # 3. Set `numpy` pseudo-random generator at a fixed value\n",
    "        import numpy as np\n",
    "        np.random.seed(s)\n",
    "\n",
    "        # 4. Set the `tensorflow` pseudo-random generator at a fixed value\n",
    "        import tensorflow as tf\n",
    "        tf.random.set_seed(s)\n",
    "        # for later versions: \n",
    "        # tf.compat.v1.set_random_seed(seed_value)\n",
    "\n",
    "    def build_model(ni, params):\n",
    "        act = params.get('act')\n",
    "        n, n1, n2, n3 = params.get('arq')\n",
    "        prob_h1, prob_h2, prob_h3 = params.get('dropout')\n",
    "        \n",
    "        # ENTRADA\n",
    "        model_input = Input(shape=(ni,))\n",
    "    \n",
    "        # CAPAS COMUNES A TODAS LOS TARGETS\n",
    "        x = Dense(n, activation=act)(model_input)\n",
    "        x = Dropout(prob_h1)(x)\n",
    "        x = Dense(n1, activation=act)(x)\n",
    "        x = Dropout(prob_h2)(x)\n",
    "        x = Dense(n2, activation=act)(x)\n",
    "        x = Dropout(prob_h3)(x)\n",
    "    \n",
    "        # CAPAS ESPECIFICAS A CADA TARGET (1 a 10)\n",
    "        y1 = Dense(units = 1, activation= 'sigmoid', name = 'output_1')(Dropout(prob_h3)(Dense(n, activation=act)(x)))\n",
    "        y2 = Dense(units = 1, activation= 'sigmoid', name = 'output_2')(Dropout(prob_h3)(Dense(n, activation=act)(x)))\n",
    "        y3 = Dense(units = 1, activation= 'sigmoid', name = 'output_3')(Dropout(prob_h3)(Dense(n, activation=act)(x)))\n",
    "        y4 = Dense(units = 1, activation= 'sigmoid', name = 'output_4')(Dropout(prob_h3)(Dense(n, activation=act)(x)))\n",
    "        y5 = Dense(units = 1, activation= 'sigmoid', name = 'output_5')(Dropout(prob_h3)(Dense(n, activation=act)(x)))\n",
    "        y6 = Dense(units = 1, activation= 'sigmoid', name = 'output_6')(Dropout(prob_h3)(Dense(n, activation=act)(x)))\n",
    "        y7 = Dense(units = 1, activation= 'sigmoid', name = 'output_7')(Dropout(prob_h3)(Dense(n, activation=act)(x)))\n",
    "        y8 = Dense(units = 1, activation= 'sigmoid', name = 'output_8')(Dropout(prob_h3)(Dense(n, activation=act)(x)))    \n",
    "        y9 = Dense(units = 1, activation= 'sigmoid', name = 'output_9')(Dropout(prob_h3)(Dense(n, activation=act)(x)))\n",
    "        y10 =Dense(units = 1, activation= 'sigmoid', name = 'output_10')(Dropout(prob_h3)(Dense(n, activation=act)(x)))\n",
    "\n",
    "        # MODELO FINAL\n",
    "        model = Model(inputs=model_input, outputs=[y1,y2,y3,y4,y5,y6,y7,y8,y9,y10])\n",
    "        print(model.summary())\n",
    "        return model\n",
    "    \n",
    "    def compilar(self, params):\n",
    "        # set seed before compiling\n",
    "        MTLDNN.set_seed(s=42)\n",
    "        \n",
    "        loss = params.get('loss')\n",
    "        optimizer = Adam(params.get('l_rate'))\n",
    "        metrics = params.get('metrics')\n",
    "        self.model.compile(loss=loss, optimizer=optimizer, metrics = metrics)\n",
    "    \n",
    "    def entrenar(self, data, params):\n",
    "        # data\n",
    "        train, test = data\n",
    "        x_train, y_train = train\n",
    "        x_test, y_test = test\n",
    "        \n",
    "        #early stopping\n",
    "        min_delta_val = params.get('min_delta')\n",
    "        patience_val = params.get('patience')\n",
    "        w = params.get('w')\n",
    "        \n",
    "        early_stop = EarlyStopping(monitor='val_loss',\n",
    "                                   min_delta=min_delta_val,\n",
    "                                   patience=patience_val,\n",
    "                                   verbose=0,\n",
    "                                   mode='min',\n",
    "                                   restore_best_weights=True)\n",
    "        # fit\n",
    "        n_epochs = params.get('n_epochs')\n",
    "        \n",
    "        self.model.fit(x = x_train,\n",
    "                  y = y_train,\n",
    "                  epochs = n_epochs,\n",
    "                  validation_data = (x_test,y_test),\n",
    "                  callbacks = [early_stop],\n",
    "                  class_weight = w,\n",
    "                  verbose = 2)\n",
    "        \n",
    "    def predecir(self, X):\n",
    "        \n",
    "        # computar predicciones\n",
    "        pred = self.model.predict(X)\n",
    "            \n",
    "        # obtener etiquetas predichas para cada output\n",
    "        y0 = np.where(pred[0] > 0.5, 1,0)\n",
    "        y1 = np.where(pred[1] > 0.5, 1,0)\n",
    "        y2 = np.where(pred[2] > 0.5, 1,0)\n",
    "        y3 = np.where(pred[3] > 0.5, 1,0)\n",
    "        y4 = np.where(pred[4] > 0.5, 1,0)\n",
    "        y5 = np.where(pred[5] > 0.5, 1,0)\n",
    "        y6 = np.where(pred[6] > 0.5, 1,0)\n",
    "        y7 = np.where(pred[7] > 0.5, 1,0)\n",
    "        y8 = np.where(pred[8] > 0.5, 1,0)\n",
    "        y9 = np.where(pred[9] > 0.5, 1,0)\n",
    "        \n",
    "        # obtener etiquetas para task_1\n",
    "        y_pred = y0 | y1 | y2 | y3 | y4 | y5 | y6 | y7 | y8 | y9 \n",
    "        \n",
    "        return y_pred\n",
    "    "
   ]
  },
  {
   "cell_type": "code",
   "execution_count": 30,
   "metadata": {},
   "outputs": [
    {
     "name": "stdout",
     "output_type": "stream",
     "text": [
      "Model: \"model\"\n",
      "__________________________________________________________________________________________________\n",
      "Layer (type)                    Output Shape         Param #     Connected to                     \n",
      "==================================================================================================\n",
      "input_1 (InputLayer)            [(None, 1281)]       0                                            \n",
      "__________________________________________________________________________________________________\n",
      "dense (Dense)                   (None, 100)          128200      input_1[0][0]                    \n",
      "__________________________________________________________________________________________________\n",
      "dropout (Dropout)               (None, 100)          0           dense[0][0]                      \n",
      "__________________________________________________________________________________________________\n",
      "dense_1 (Dense)                 (None, 50)           5050        dropout[0][0]                    \n",
      "__________________________________________________________________________________________________\n",
      "dropout_1 (Dropout)             (None, 50)           0           dense_1[0][0]                    \n",
      "__________________________________________________________________________________________________\n",
      "dense_2 (Dense)                 (None, 10)           510         dropout_1[0][0]                  \n",
      "__________________________________________________________________________________________________\n",
      "dropout_2 (Dropout)             (None, 10)           0           dense_2[0][0]                    \n",
      "__________________________________________________________________________________________________\n",
      "dense_3 (Dense)                 (None, 100)          1100        dropout_2[0][0]                  \n",
      "__________________________________________________________________________________________________\n",
      "dense_4 (Dense)                 (None, 100)          1100        dropout_2[0][0]                  \n",
      "__________________________________________________________________________________________________\n",
      "dense_5 (Dense)                 (None, 100)          1100        dropout_2[0][0]                  \n",
      "__________________________________________________________________________________________________\n",
      "dense_6 (Dense)                 (None, 100)          1100        dropout_2[0][0]                  \n",
      "__________________________________________________________________________________________________\n",
      "dense_7 (Dense)                 (None, 100)          1100        dropout_2[0][0]                  \n",
      "__________________________________________________________________________________________________\n",
      "dense_8 (Dense)                 (None, 100)          1100        dropout_2[0][0]                  \n",
      "__________________________________________________________________________________________________\n",
      "dense_9 (Dense)                 (None, 100)          1100        dropout_2[0][0]                  \n",
      "__________________________________________________________________________________________________\n",
      "dense_10 (Dense)                (None, 100)          1100        dropout_2[0][0]                  \n",
      "__________________________________________________________________________________________________\n",
      "dense_11 (Dense)                (None, 100)          1100        dropout_2[0][0]                  \n",
      "__________________________________________________________________________________________________\n",
      "dense_12 (Dense)                (None, 100)          1100        dropout_2[0][0]                  \n",
      "__________________________________________________________________________________________________\n",
      "dropout_3 (Dropout)             (None, 100)          0           dense_3[0][0]                    \n",
      "__________________________________________________________________________________________________\n",
      "dropout_4 (Dropout)             (None, 100)          0           dense_4[0][0]                    \n",
      "__________________________________________________________________________________________________\n",
      "dropout_5 (Dropout)             (None, 100)          0           dense_5[0][0]                    \n",
      "__________________________________________________________________________________________________\n",
      "dropout_6 (Dropout)             (None, 100)          0           dense_6[0][0]                    \n",
      "__________________________________________________________________________________________________\n",
      "dropout_7 (Dropout)             (None, 100)          0           dense_7[0][0]                    \n",
      "__________________________________________________________________________________________________\n",
      "dropout_8 (Dropout)             (None, 100)          0           dense_8[0][0]                    \n",
      "__________________________________________________________________________________________________\n",
      "dropout_9 (Dropout)             (None, 100)          0           dense_9[0][0]                    \n",
      "__________________________________________________________________________________________________\n",
      "dropout_10 (Dropout)            (None, 100)          0           dense_10[0][0]                   \n",
      "__________________________________________________________________________________________________\n",
      "dropout_11 (Dropout)            (None, 100)          0           dense_11[0][0]                   \n",
      "__________________________________________________________________________________________________\n",
      "dropout_12 (Dropout)            (None, 100)          0           dense_12[0][0]                   \n",
      "__________________________________________________________________________________________________\n",
      "output_1 (Dense)                (None, 1)            101         dropout_3[0][0]                  \n",
      "__________________________________________________________________________________________________\n",
      "output_2 (Dense)                (None, 1)            101         dropout_4[0][0]                  \n",
      "__________________________________________________________________________________________________\n",
      "output_3 (Dense)                (None, 1)            101         dropout_5[0][0]                  \n",
      "__________________________________________________________________________________________________\n",
      "output_4 (Dense)                (None, 1)            101         dropout_6[0][0]                  \n",
      "__________________________________________________________________________________________________\n",
      "output_5 (Dense)                (None, 1)            101         dropout_7[0][0]                  \n",
      "__________________________________________________________________________________________________\n",
      "output_6 (Dense)                (None, 1)            101         dropout_8[0][0]                  \n",
      "__________________________________________________________________________________________________\n",
      "output_7 (Dense)                (None, 1)            101         dropout_9[0][0]                  \n",
      "__________________________________________________________________________________________________\n",
      "output_8 (Dense)                (None, 1)            101         dropout_10[0][0]                 \n",
      "__________________________________________________________________________________________________\n",
      "output_9 (Dense)                (None, 1)            101         dropout_11[0][0]                 \n",
      "__________________________________________________________________________________________________\n",
      "output_10 (Dense)               (None, 1)            101         dropout_12[0][0]                 \n",
      "==================================================================================================\n",
      "Total params: 145,770\n",
      "Trainable params: 145,770\n",
      "Non-trainable params: 0\n",
      "__________________________________________________________________________________________________\n",
      "None\n"
     ]
    }
   ],
   "source": [
    "params = {'dropout':[0.25,0.15,0.1],\n",
    "          'act':'relu',\n",
    "          'lb':0.005,\n",
    "          'arq':(100,50,10,5),\n",
    "          'w': None,\n",
    "          'loss':BinaryCrossentropy(), \n",
    "          'l_rate':0.0001, \n",
    "          'metrics':[tf.keras.metrics.Precision(),tf.keras.metrics.Recall(),tf.keras.metrics.Accuracy()], \n",
    "          'min_delta':0.0001, \n",
    "          'patience':500,\n",
    "          'n_epochs':1}\n",
    "\n",
    "mi_modelo = MTLDNN(1281, params)\n",
    "mi_modelo.compilar(params)"
   ]
  },
  {
   "cell_type": "code",
   "execution_count": 31,
   "metadata": {},
   "outputs": [
    {
     "name": "stderr",
     "output_type": "stream",
     "text": [
      "/home/vsabando/virtualenvs/tf_gpu/lib/python3.7/site-packages/sklearn/feature_extraction/text.py:385: UserWarning: Your stop_words may be inconsistent with your preprocessing. Tokenizing the stop words generated tokens [\"'d\", \"'ll\", \"'re\", \"'s\", \"'ve\", 'could', 'might', 'must', \"n't\", 'need', 'sha', 'wo', 'would'] not in stop_words.\n",
      "  'stop_words.' % sorted(inconsistent))\n"
     ]
    },
    {
     "name": "stdout",
     "output_type": "stream",
     "text": [
      "Train on 3053 samples, validate on 764 samples\n",
      "3053/3053 - 10s - loss: 6.6818 - output_1_loss: 0.6674 - output_2_loss: 0.6677 - output_3_loss: 0.6800 - output_4_loss: 0.6702 - output_5_loss: 0.6622 - output_6_loss: 0.6756 - output_7_loss: 0.6598 - output_8_loss: 0.6718 - output_9_loss: 0.6629 - output_10_loss: 0.6620 - output_1_precision: 0.0076 - output_1_recall: 0.0714 - output_1_accuracy: 0.0000e+00 - output_2_precision: 0.0286 - output_2_recall: 0.0377 - output_2_accuracy: 0.0000e+00 - output_3_precision: 0.0113 - output_3_recall: 0.1333 - output_3_accuracy: 0.0000e+00 - output_4_precision: 0.1724 - output_4_recall: 0.0202 - output_4_accuracy: 0.0000e+00 - output_5_precision: 0.0000e+00 - output_5_recall: 0.0000e+00 - output_5_accuracy: 0.0000e+00 - output_6_precision: 0.0694 - output_6_recall: 0.1156 - output_6_accuracy: 0.0000e+00 - output_7_precision: 0.0000e+00 - output_7_recall: 0.0000e+00 - output_7_accuracy: 0.0000e+00 - output_8_precision: 0.0463 - output_8_recall: 0.0474 - output_8_accuracy: 0.0000e+00 - output_9_precision: 0.0130 - output_9_recall: 0.0192 - output_9_accuracy: 0.0000e+00 - output_10_precision: 0.0469 - output_10_recall: 0.1200 - output_10_accuracy: 0.0000e+00 - val_loss: 6.2567 - val_output_1_loss: 0.6240 - val_output_2_loss: 0.6263 - val_output_3_loss: 0.6498 - val_output_4_loss: 0.6386 - val_output_5_loss: 0.6181 - val_output_6_loss: 0.6426 - val_output_7_loss: 0.6017 - val_output_8_loss: 0.6291 - val_output_9_loss: 0.6102 - val_output_10_loss: 0.6164 - val_output_1_precision: 0.0000e+00 - val_output_1_recall: 0.0000e+00 - val_output_1_accuracy: 0.0000e+00 - val_output_2_precision: 0.0000e+00 - val_output_2_recall: 0.0000e+00 - val_output_2_accuracy: 0.0000e+00 - val_output_3_precision: 0.0000e+00 - val_output_3_recall: 0.0000e+00 - val_output_3_accuracy: 0.0000e+00 - val_output_4_precision: 0.0000e+00 - val_output_4_recall: 0.0000e+00 - val_output_4_accuracy: 0.0000e+00 - val_output_5_precision: 0.0000e+00 - val_output_5_recall: 0.0000e+00 - val_output_5_accuracy: 0.0000e+00 - val_output_6_precision: 0.0000e+00 - val_output_6_recall: 0.0000e+00 - val_output_6_accuracy: 0.0000e+00 - val_output_7_precision: 0.0000e+00 - val_output_7_recall: 0.0000e+00 - val_output_7_accuracy: 0.0000e+00 - val_output_8_precision: 0.0000e+00 - val_output_8_recall: 0.0000e+00 - val_output_8_accuracy: 0.0000e+00 - val_output_9_precision: 0.0000e+00 - val_output_9_recall: 0.0000e+00 - val_output_9_accuracy: 0.0000e+00 - val_output_10_precision: 0.0000e+00 - val_output_10_recall: 0.0000e+00 - val_output_10_accuracy: 0.0000e+00\n"
     ]
    }
   ],
   "source": [
    "import data\n",
    "datapath =\"../../data/task_2.csv\"\n",
    "train_folds = data.load_data(datapath)\n",
    "\n",
    "\n",
    "f0 = train_folds[0]\n",
    "mi_modelo.entrenar(f0, params)"
   ]
  },
  {
   "cell_type": "code",
   "execution_count": 32,
   "metadata": {},
   "outputs": [],
   "source": [
    "train, test = f0\n",
    "X_train, y_train = train\n",
    "X_test, y_test = test\n",
    "\n",
    "y_pred = mi_modelo.predecir(X_train)"
   ]
  },
  {
   "cell_type": "code",
   "execution_count": 1,
   "metadata": {},
   "outputs": [
    {
     "ename": "NameError",
     "evalue": "name 'y_test' is not defined",
     "output_type": "error",
     "traceback": [
      "\u001b[0;31m---------------------------------------------------------------------------\u001b[0m",
      "\u001b[0;31mNameError\u001b[0m                                 Traceback (most recent call last)",
      "\u001b[0;32m<ipython-input-1-27d3425f7a85>\u001b[0m in \u001b[0;36m<module>\u001b[0;34m\u001b[0m\n\u001b[0;32m----> 1\u001b[0;31m \u001b[0my_test\u001b[0m\u001b[0;34m\u001b[0m\u001b[0;34m\u001b[0m\u001b[0m\n\u001b[0m",
      "\u001b[0;31mNameError\u001b[0m: name 'y_test' is not defined"
     ]
    }
   ],
   "source": [
    "y_test"
   ]
  },
  {
   "cell_type": "code",
   "execution_count": 35,
   "metadata": {},
   "outputs": [
    {
     "data": {
      "text/plain": [
       "(3053, 1)"
      ]
     },
     "execution_count": 35,
     "metadata": {},
     "output_type": "execute_result"
    }
   ],
   "source": [
    "y_pred.shape"
   ]
  },
  {
   "cell_type": "code",
   "execution_count": 43,
   "metadata": {},
   "outputs": [
    {
     "data": {
      "text/plain": [
       "<module 'tensorflow_core.keras.utils' from '/home/vsabando/virtualenvs/tf_gpu/lib/python3.7/site-packages/tensorflow_core/python/keras/api/_v2/keras/utils/__init__.py'>"
      ]
     },
     "execution_count": 43,
     "metadata": {},
     "output_type": "execute_result"
    }
   ],
   "source": [
    "importlib.reload(utils)"
   ]
  }
 ],
 "metadata": {
  "kernelspec": {
   "display_name": "Python 3",
   "language": "python",
   "name": "python3"
  },
  "language_info": {
   "codemirror_mode": {
    "name": "ipython",
    "version": 3
   },
   "file_extension": ".py",
   "mimetype": "text/x-python",
   "name": "python",
   "nbconvert_exporter": "python",
   "pygments_lexer": "ipython3",
   "version": "3.7.4"
  }
 },
 "nbformat": 4,
 "nbformat_minor": 4
}
