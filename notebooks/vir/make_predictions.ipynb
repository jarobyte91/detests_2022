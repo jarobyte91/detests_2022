{
 "cells": [
  {
   "cell_type": "code",
   "execution_count": 12,
   "id": "65be2472-f9b9-4fde-8e8a-53ecff379ede",
   "metadata": {},
   "outputs": [
    {
     "ename": "ModuleNotFoundError",
     "evalue": "No module named 'transformers'",
     "output_type": "error",
     "traceback": [
      "\u001b[0;31m---------------------------------------------------------------------------\u001b[0m",
      "\u001b[0;31mModuleNotFoundError\u001b[0m                       Traceback (most recent call last)",
      "\u001b[0;32m/tmp/ipykernel_294704/1325877032.py\u001b[0m in \u001b[0;36m<module>\u001b[0;34m\u001b[0m\n\u001b[1;32m      6\u001b[0m \u001b[0;34m\u001b[0m\u001b[0m\n\u001b[1;32m      7\u001b[0m \u001b[0;32mimport\u001b[0m \u001b[0mnumpy\u001b[0m \u001b[0;32mas\u001b[0m \u001b[0mnp\u001b[0m\u001b[0;34m\u001b[0m\u001b[0;34m\u001b[0m\u001b[0m\n\u001b[0;32m----> 8\u001b[0;31m \u001b[0;32mfrom\u001b[0m \u001b[0mmaiso\u001b[0m\u001b[0;34m.\u001b[0m\u001b[0mmodels\u001b[0m \u001b[0;32mimport\u001b[0m \u001b[0mTransformersShell\u001b[0m\u001b[0;34m\u001b[0m\u001b[0;34m\u001b[0m\u001b[0m\n\u001b[0m",
      "\u001b[0;32m~/detests2022/library/maiso/models.py\u001b[0m in \u001b[0;36m<module>\u001b[0;34m\u001b[0m\n\u001b[1;32m     33\u001b[0m \u001b[0;31m#####################################################\u001b[0m\u001b[0;34m\u001b[0m\u001b[0;34m\u001b[0m\u001b[0;34m\u001b[0m\u001b[0m\n\u001b[1;32m     34\u001b[0m \u001b[0;32mfrom\u001b[0m \u001b[0mdatasets\u001b[0m \u001b[0;32mimport\u001b[0m \u001b[0mDataset\u001b[0m\u001b[0;34m\u001b[0m\u001b[0;34m\u001b[0m\u001b[0m\n\u001b[0;32m---> 35\u001b[0;31m \u001b[0;32mfrom\u001b[0m \u001b[0mtransformers\u001b[0m \u001b[0;32mimport\u001b[0m \u001b[0mAutoModelForSequenceClassification\u001b[0m\u001b[0;34m\u001b[0m\u001b[0;34m\u001b[0m\u001b[0m\n\u001b[0m\u001b[1;32m     36\u001b[0m \u001b[0;32mfrom\u001b[0m \u001b[0mtransformers\u001b[0m \u001b[0;32mimport\u001b[0m \u001b[0mAutoTokenizer\u001b[0m\u001b[0;34m,\u001b[0m \u001b[0mDataCollatorWithPadding\u001b[0m\u001b[0;34m\u001b[0m\u001b[0;34m\u001b[0m\u001b[0m\n\u001b[1;32m     37\u001b[0m \u001b[0;32mimport\u001b[0m \u001b[0mnumpy\u001b[0m \u001b[0;32mas\u001b[0m \u001b[0mnp\u001b[0m\u001b[0;34m\u001b[0m\u001b[0;34m\u001b[0m\u001b[0m\n",
      "\u001b[0;31mModuleNotFoundError\u001b[0m: No module named 'transformers'"
     ]
    }
   ],
   "source": [
    "import numpy as np\n",
    "import pandas as pd\n",
    "\n",
    "import sys\n",
    "sys.path.append('/home/maiso/detests2022/library/')\n",
    "\n",
    "import numpy as np\n",
    "from maiso.models import TransformersShell"
   ]
  },
  {
   "cell_type": "code",
   "execution_count": 2,
   "id": "1d81b685",
   "metadata": {},
   "outputs": [],
   "source": [
    "import datasets"
   ]
  },
  {
   "cell_type": "code",
   "execution_count": null,
   "id": "53d7db0d-c4cf-426d-be72-8daf4925ec3c",
   "metadata": {},
   "outputs": [],
   "source": [
    "def make_predictions(model, data):\n",
    "\n",
    "    # separar cada columna respetando el formato pedido en la competencia\n",
    "    comment_id_0 = data.comment_id\n",
    "    sentence_pos_1 = data.sentence_pos\n",
    "    columns = model.get_columns()\n",
    "    X_external = data.sentence\n",
    "    # computar predicciones\n",
    "    preds = model.predecir(X_external)\n",
    "    preds = preds*1\n",
    "    \n",
    "    # computar predicciones para task_1\n",
    "    # transpongo el arreglo: de (Nx10) pasa a ser de (10xN)\n",
    "    # luego computo el or, y me queda un arreglo de N predicciones\n",
    "    task_1 = np.logical_or.reduce(preds.T)*1\n",
    "    \n",
    "    # confecciono los dataframes a retornar\n",
    "    d_1 = {'comment_id': comment_id_0, 'sentence_pos': sentence_pos_1, 'stereotype': task_1 }\n",
    "    # d_preds = {columns: preds}\n",
    "    DF_1 = pd.DataFrame(d_1)\n",
    "    DF_preds = pd.DataFrame(preds, columns=columns)\n",
    "    DF_2 = pd.concat([DF_1,DF_preds], axis=1)\n",
    "    return DF_1, DF_2"
   ]
  },
  {
   "cell_type": "code",
   "execution_count": null,
   "id": "99bde0a9-10c4-4d0e-82fd-1d72ae6ec8f6",
   "metadata": {},
   "outputs": [],
   "source": [
    "def make_predictions_ensemble(preds_lst):\n",
    "\n",
    "    # para sacar las columnas de comment y sentence me baso en el primer df\n",
    "    comment_id_0 = preds_lst[0].comment_id\n",
    "    sentence_pos_1 = preds_lst[0].sentence_pos\n",
    "    \n",
    "    # tomo las predicciones de las 10 subtareas\n",
    "    df_a = preds_lst[0].drop(['comment_id', 'sentence_pos'], axis=1)\n",
    "    df_b = preds_lst[1].drop(['comment_id', 'sentence_pos'], axis=1)\n",
    "    df_c = preds_lst[2].drop(['comment_id', 'sentence_pos'], axis=1)\n",
    "    columns = model.get_columns()\n",
    "    X_external = data.sentence\n",
    "    # computar predicciones\n",
    "    preds = model.predecir(X_external)\n",
    "    preds = preds*1\n",
    "    \n",
    "    # computar predicciones para task_1\n",
    "    # transpongo el arreglo: de (Nx10) pasa a ser de (10xN)\n",
    "    # luego computo el or, y me queda un arreglo de N predicciones\n",
    "    task_1 = np.logical_or.reduce(preds.T)*1\n",
    "    \n",
    "    # confecciono los dataframes a retornar\n",
    "    d_1 = {'comment_id': comment_id_0, 'sentence_pos': sentence_pos_1, 'stereotype': task_1 }\n",
    "    # d_preds = {columns: preds}\n",
    "    DF_1 = pd.DataFrame(d_1)\n",
    "    DF_preds = pd.DataFrame(preds, columns=columns)\n",
    "    DF_2 = pd.concat([DF_1,DF_preds], axis=1)\n",
    "    return DF_1, DF_2"
   ]
  },
  {
   "cell_type": "code",
   "execution_count": null,
   "id": "bd2e7a1e-7179-4683-b291-7ba92dd4dc7d",
   "metadata": {},
   "outputs": [],
   "source": [
    "# load models\n",
    "\n",
    "# weights path\n",
    "weights_path = '/home/maiso/detests_2022/trained_models/'\n",
    "\n",
    "model_weights_lst = ['roberta15.pt', 'roberta17.pt', 'BETO20.pt']\n",
    "model_names_dict = {\n",
    "    'roberta15.pt':'roberta-base-bne',\n",
    "    'BETO20.pt':'bert-base-spanish-wwm-uncased',\n",
    "    'roberta17.pt':'roberta-base-bne'\n",
    "}\n",
    "\n",
    "# load extenal test set\n",
    "external_test =  pd.read_csv(\"../../data/test.csv\")\n",
    "\n",
    "preds_lst = []\n",
    "\n",
    "# para cada uno de los modelos ganadores\n",
    "for model_weights in model_weights_lst:\n",
    "    model_name = model_names_dict.get(model_weights)\n",
    "    model = TransformersShell(model_name=model_name, epochs=1)\n",
    "    path_to_weights = weights_path+model_weights\n",
    "    model.load_from_pretrained(path_to_weights) \n",
    "    \n",
    "    df1, df2 =  make_predictions(model, external_test)\n",
    "    df1.to_csv(model_name[:-3]+'_1.csv', index=False)\n",
    "    df2.to_csv(model_name[:-3]+'_2.csv', index=False)\n",
    "\n",
    "    # en esta lista guardo las predicciones de la tarea 2\n",
    "    preds_lst.append(df_2)\n",
    "    \n",
    "#luego, calculo predicciones de ensamble\n",
    "df1_ensemble, df2_ensemble = make_predictions_ensemble(preds_lst)\n",
    "df1_ensemble.to_csv('ensemble_1.csv', index=False)\n",
    "df2_ensemble.to_csv('ensemble_2.csv', index=False)"
   ]
  },
  {
   "cell_type": "code",
   "execution_count": null,
   "id": "2749e65b-80c7-48da-86b7-526d3c536b39",
   "metadata": {},
   "outputs": [],
   "source": [
    "def ensemble(object):\n",
    "    def __init__(self,models):\n",
    "        self.models=models\n",
    "        # revisar que columnsa identicas\n",
    "    def predecir(self, X):\n",
    "        lista_predicciones=[]\n",
    "        for model in self.models:\n",
    "            y = model.predecir(X)\n",
    "            lista_predicciones.append(y)\n",
    "        # y.shape=(n_instancias, n_labels)\n",
    "        y_final = np.zeros(shape=lista_predicciones[0].shape)\n",
    "        for y in lista_predicciones:\n",
    "            y_final += y\n",
    "        # y_final = np.sum(np.array(lista_prediciones))\n",
    "        return y_final>0"
   ]
  },
  {
   "cell_type": "code",
   "execution_count": 1,
   "id": "8070b3ff",
   "metadata": {},
   "outputs": [],
   "source": [
    "import numpy as np\n"
   ]
  },
  {
   "cell_type": "code",
   "execution_count": 2,
   "id": "92d62e71",
   "metadata": {},
   "outputs": [
    {
     "ename": "ValueError",
     "evalue": "low >= high",
     "output_type": "error",
     "traceback": [
      "\u001b[0;31m---------------------------------------------------------------------------\u001b[0m",
      "\u001b[0;31mValueError\u001b[0m                                Traceback (most recent call last)",
      "Input \u001b[0;32mIn [2]\u001b[0m, in \u001b[0;36m<cell line: 1>\u001b[0;34m()\u001b[0m\n\u001b[0;32m----> 1\u001b[0m \u001b[43mnp\u001b[49m\u001b[38;5;241;43m.\u001b[39;49m\u001b[43mrandom\u001b[49m\u001b[38;5;241;43m.\u001b[39;49m\u001b[43mrandint\u001b[49m\u001b[43m(\u001b[49m\u001b[43m(\u001b[49m\u001b[38;5;241;43m100\u001b[39;49m\u001b[43m,\u001b[49m\u001b[38;5;241;43m10\u001b[39;49m\u001b[43m)\u001b[49m\u001b[43m,\u001b[49m\u001b[43m \u001b[49m\u001b[38;5;241;43m1\u001b[39;49m\u001b[43m)\u001b[49m\n",
      "File \u001b[0;32mmtrand.pyx:748\u001b[0m, in \u001b[0;36mnumpy.random.mtrand.RandomState.randint\u001b[0;34m()\u001b[0m\n",
      "File \u001b[0;32m_bounded_integers.pyx:1262\u001b[0m, in \u001b[0;36mnumpy.random._bounded_integers._rand_int64\u001b[0;34m()\u001b[0m\n",
      "File \u001b[0;32m_bounded_integers.pyx:686\u001b[0m, in \u001b[0;36mnumpy.random._bounded_integers._rand_int64_broadcast\u001b[0;34m()\u001b[0m\n",
      "\u001b[0;31mValueError\u001b[0m: low >= high"
     ]
    }
   ],
   "source": [
    "np.random.randint((100,10), 1)"
   ]
  }
 ],
 "metadata": {
  "kernelspec": {
   "display_name": "Python 3",
   "language": "python",
   "name": "python3"
  },
  "language_info": {
   "codemirror_mode": {
    "name": "ipython",
    "version": 3
   },
   "file_extension": ".py",
   "mimetype": "text/x-python",
   "name": "python",
   "nbconvert_exporter": "python",
   "pygments_lexer": "ipython3",
   "version": "3.8.10"
  }
 },
 "nbformat": 4,
 "nbformat_minor": 5
}
