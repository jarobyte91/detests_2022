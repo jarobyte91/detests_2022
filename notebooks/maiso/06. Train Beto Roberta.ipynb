{
 "cells": [
  {
   "cell_type": "code",
   "execution_count": 1,
   "id": "5295f3b2",
   "metadata": {},
   "outputs": [],
   "source": []
  },
  {
   "cell_type": "code",
   "execution_count": 1,
   "id": "eb0a014d",
   "metadata": {},
   "outputs": [
    {
     "name": "stdout",
     "output_type": "stream",
     "text": [
      "Working with model bert-base-spanish-wwm-uncased\n",
      "Loading tokenizer...\n",
      "Loading model...\n"
     ]
    }
   ],
   "source": [
    "import sys\n",
    "sys.path.append('/home/maiso/detests_2022/library')\n",
    "\n",
    "\n",
    "\n",
    "from maiso.task import get_texts, get_y\n",
    "import numpy as np\n",
    "from maiso.models import TransformersShell\n",
    "model_names = ['roberta-base-bne', 'bert-base-spanish-wwm-uncased', 'bert-base-multilingual-uncased']\n",
    "\n",
    "model = TransformersShell(model_name=model_names[1], epochs=1)\n",
    "\n",
    "output_file = '/home/maiso/detests_2022/trained_models/BETO20.pt'\n",
    "\n",
    "# X = TransformersShell.get_X(get_texts()[:10])\n",
    "# y = get_y().iloc[:10,:]\n",
    "\n",
    "\n",
    "# model.entrenar(X,y)\n",
    "# vec1 = model.predecir_proba(X)\n",
    "# model.save_pretrained(output_file)\n",
    "\n",
    "\n",
    "model.load_from_pretrained(output_file) \n",
    "# print(model.get_columns())\n",
    "# model.predecir_proba(X)==vec1\n"
   ]
  },
  {
   "cell_type": "code",
   "execution_count": 2,
   "id": "b4b2a830",
   "metadata": {},
   "outputs": [],
   "source": [
    "X = TransformersShell.get_X(get_texts())\n"
   ]
  },
  {
   "cell_type": "code",
   "execution_count": null,
   "id": "97f756c7",
   "metadata": {},
   "outputs": [],
   "source": [
    "yhat = model.predecir(X)"
   ]
  },
  {
   "cell_type": "code",
   "execution_count": 6,
   "id": "0ec82ddf",
   "metadata": {},
   "outputs": [
    {
     "data": {
      "text/plain": [
       "array([[0.4413762 , 0.54238355, 0.45084122, 0.5223348 , 0.498513  ,\n",
       "        0.5673152 , 0.4238033 , 0.46635744, 0.5001894 , 0.54877627],\n",
       "       [0.4487709 , 0.54222023, 0.44794798, 0.5187084 , 0.5029493 ,\n",
       "        0.5709548 , 0.42065722, 0.46773696, 0.5010861 , 0.54724926],\n",
       "       [0.4455708 , 0.5421509 , 0.45469677, 0.5187431 , 0.4945915 ,\n",
       "        0.5660327 , 0.42101213, 0.47012323, 0.49803886, 0.53745496],\n",
       "       [0.44224632, 0.5453279 , 0.4488152 , 0.5176661 , 0.49898687,\n",
       "        0.5600831 , 0.4234782 , 0.47003096, 0.4964142 , 0.53983575],\n",
       "       [0.44551528, 0.54464555, 0.45503458, 0.5122337 , 0.49607933,\n",
       "        0.5581769 , 0.41857705, 0.46289524, 0.5006964 , 0.53224045],\n",
       "       [0.44389853, 0.5441062 , 0.45752388, 0.52973807, 0.50115657,\n",
       "        0.568825  , 0.41876113, 0.4695453 , 0.49763033, 0.54124004],\n",
       "       [0.44818267, 0.54184294, 0.45412564, 0.5224609 , 0.5013565 ,\n",
       "        0.56571704, 0.42053616, 0.46113762, 0.49451673, 0.54184943],\n",
       "       [0.45158672, 0.54260695, 0.44853997, 0.52524555, 0.5029967 ,\n",
       "        0.5637369 , 0.4180171 , 0.46672183, 0.496271  , 0.5440985 ],\n",
       "       [0.44440085, 0.54222184, 0.46067023, 0.5306011 , 0.50071543,\n",
       "        0.56599885, 0.42095345, 0.47485575, 0.49621078, 0.5396531 ],\n",
       "       [0.4465581 , 0.54122627, 0.45237818, 0.51877683, 0.49855685,\n",
       "        0.5618693 , 0.41619208, 0.46323133, 0.50135684, 0.54264027]],\n",
       "      dtype=float32)"
      ]
     },
     "execution_count": 6,
     "metadata": {},
     "output_type": "execute_result"
    }
   ],
   "source": [
    "array([[0.46034408, 0.4284752 , 0.45649108, 0.42964855, 0.39918512,\n",
    "        0.42749605, 0.46179563, 0.45221227, 0.42441422, 0.36387146],\n",
    "       [0.46240777, 0.42832816, 0.44857138, 0.42936778, 0.4090557 ,\n",
    "        0.43259072, 0.45326412, 0.44983009, 0.4081919 , 0.35685676],\n",
    "       [0.46254155, 0.42648152, 0.4554486 , 0.43039823, 0.40890718,\n",
    "        0.4353095 , 0.45971766, 0.45754585, 0.41609144, 0.3561814 ],\n",
    "       [0.45910758, 0.43075252, 0.45260793, 0.42955747, 0.4074184 ,\n",
    "        0.4360249 , 0.4533331 , 0.45147413, 0.41872302, 0.3575762 ],\n",
    "       [0.46297678, 0.4298458 , 0.4489482 , 0.4315314 , 0.40573356,\n",
    "        0.43063363, 0.45863488, 0.4615832 , 0.42873037, 0.36638367],\n",
    "       [0.46579322, 0.42719182, 0.45539498, 0.4351896 , 0.4065007 ,\n",
    "        0.42893705, 0.46086898, 0.45529994, 0.42148528, 0.35711193],\n",
    "       [0.4671331 , 0.4304342 , 0.45512405, 0.43614024, 0.41175586,\n",
    "        0.43441263, 0.45965222, 0.46369335, 0.42473647, 0.3624988 ],\n",
    "       [0.46662515, 0.42981365, 0.44547784, 0.42976284, 0.40280294,\n",
    "        0.4237937 , 0.4600429 , 0.45384914, 0.4283547 , 0.3635343 ],\n",
    "       [0.47084984, 0.43401748, 0.45702982, 0.43888748, 0.40719548,\n",
    "        0.4361782 , 0.4641635 , 0.46302316, 0.42901835, 0.364856  ],\n",
    "       [0.46487686, 0.42763963, 0.44962785, 0.42508256, 0.40674272,\n",
    "        0.42886922, 0.46266416, 0.45153683, 0.4221024 , 0.35973787]],\n",
    "      dtype=float32)"
   ]
  },
  {
   "cell_type": "code",
   "execution_count": 2,
   "id": "80a26fd6",
   "metadata": {},
   "outputs": [],
   "source": [
    "import numpy as np\n",
    "vec1 = np.array([[0.3397245 , 0.41959044, 0.4892245 , 0.29243836, 0.30915928,\n",
    "        0.43698978, 0.36771947, 0.3500477 , 0.3386655 , 0.33625373],\n",
    "       [0.33984995, 0.42392233, 0.48848817, 0.2928346 , 0.30234337,\n",
    "        0.4369544 , 0.35544005, 0.33254188, 0.32517067, 0.3345993 ],\n",
    "       [0.3374211 , 0.42415965, 0.49400547, 0.29814294, 0.30600655,\n",
    "        0.4407967 , 0.36320493, 0.3453798 , 0.34115687, 0.33341274],\n",
    "       [0.3385281 , 0.41328457, 0.49582094, 0.2933447 , 0.30854777,\n",
    "        0.44235492, 0.35291764, 0.34283194, 0.33566067, 0.3323762 ],\n",
    "       [0.34189075, 0.42537078, 0.48474073, 0.31275678, 0.31764764,\n",
    "        0.43916148, 0.36483574, 0.34454352, 0.3461683 , 0.3317419 ],\n",
    "       [0.33347544, 0.43125528, 0.49581847, 0.28522962, 0.30395424,\n",
    "        0.44143793, 0.35826117, 0.34416366, 0.32698882, 0.33870643],\n",
    "       [0.33743668, 0.42538726, 0.4878897 , 0.3010528 , 0.3080087 ,\n",
    "        0.43884417, 0.37031704, 0.34572998, 0.33349955, 0.34261712],\n",
    "       [0.328723  , 0.42654976, 0.48807094, 0.29637536, 0.30808854,\n",
    "        0.43793964, 0.36426976, 0.34592894, 0.32335562, 0.3414264 ],\n",
    "       [0.35268745, 0.42137572, 0.47048873, 0.3083149 , 0.3195608 ,\n",
    "        0.44450793, 0.37543327, 0.35807663, 0.34719798, 0.34478337],\n",
    "       [0.33165026, 0.42741266, 0.4901686 , 0.29057735, 0.30823675,\n",
    "        0.43602198, 0.36652392, 0.35070875, 0.3318292 , 0.33453882]],\n",
    "      dtype='float32')"
   ]
  },
  {
   "cell_type": "code",
   "execution_count": null,
   "id": "83edeea0",
   "metadata": {},
   "outputs": [],
   "source": []
  },
  {
   "cell_type": "code",
   "execution_count": 4,
   "id": "e5a2c9af",
   "metadata": {},
   "outputs": [],
   "source": [
    "# model.save_pretrained('my_classifier.pt')"
   ]
  },
  {
   "cell_type": "code",
   "execution_count": 5,
   "id": "8d46b7b0",
   "metadata": {},
   "outputs": [
    {
     "data": {
      "text/plain": [
       "['xenophobia',\n",
       " 'suffering',\n",
       " 'economic',\n",
       " 'migration',\n",
       " 'culture',\n",
       " 'benefits',\n",
       " 'health',\n",
       " 'security',\n",
       " 'dehumanisation',\n",
       " 'others']"
      ]
     },
     "execution_count": 5,
     "metadata": {},
     "output_type": "execute_result"
    }
   ],
   "source": [
    "# model.load_from_pretrained('my_classifier.pt')\n",
    "model.get_columns()"
   ]
  },
  {
   "cell_type": "code",
   "execution_count": 5,
   "id": "66df2ce4",
   "metadata": {},
   "outputs": [
    {
     "name": "stdout",
     "output_type": "stream",
     "text": [
      "Loading tokenizer...\n",
      "Loading model...\n"
     ]
    },
    {
     "name": "stderr",
     "output_type": "stream",
     "text": [
      "Some weights of the model checkpoint at /home/maiso/detests_2022/assets/roberta-base-bne/model were not used when initializing RobertaModel: ['classifier.dense.weight', 'classifier.dense.bias', 'classifier.out_proj.weight', 'classifier.out_proj.bias']\n",
      "- This IS expected if you are initializing RobertaModel from the checkpoint of a model trained on another task or with another architecture (e.g. initializing a BertForSequenceClassification model from a BertForPreTraining model).\n",
      "- This IS NOT expected if you are initializing RobertaModel from the checkpoint of a model that you expect to be exactly identical (initializing a BertForSequenceClassification model from a BertForSequenceClassification model).\n",
      "Some weights of RobertaModel were not initialized from the model checkpoint at /home/maiso/detests_2022/assets/roberta-base-bne/model and are newly initialized: ['roberta.pooler.dense.weight', 'roberta.pooler.dense.bias']\n",
      "You should probably TRAIN this model on a down-stream task to be able to use it for predictions and inference.\n"
     ]
    }
   ],
   "source": [
    "from maiso.task import get_texts, get_y\n",
    "from maiso.models import RoBERTaShell\n",
    "\n",
    "model = RoBERTaShell(epochs=2)\n",
    "\n",
    "\n",
    "\n",
    "X = RoBERTaShell.get_X(get_texts()[:10])\n",
    "y = get_y().iloc[:10,:]\n",
    "\n",
    "model.entrenar(X,y)"
   ]
  },
  {
   "cell_type": "code",
   "execution_count": 5,
   "id": "f7e95531",
   "metadata": {},
   "outputs": [],
   "source": [
    "model.save_pretrained('my_classifier.pt')"
   ]
  },
  {
   "cell_type": "code",
   "execution_count": 6,
   "id": "4ecd85ed",
   "metadata": {},
   "outputs": [
    {
     "name": "stdout",
     "output_type": "stream",
     "text": [
      "Loading tokenizer...\n",
      "Loading model...\n"
     ]
    },
    {
     "name": "stderr",
     "output_type": "stream",
     "text": [
      "Some weights of the model checkpoint at /home/maiso/detests_2022/assets/roberta-base-bne/model were not used when initializing RobertaModel: ['classifier.dense.bias', 'classifier.dense.weight', 'classifier.out_proj.weight', 'classifier.out_proj.bias']\n",
      "- This IS expected if you are initializing RobertaModel from the checkpoint of a model trained on another task or with another architecture (e.g. initializing a BertForSequenceClassification model from a BertForPreTraining model).\n",
      "- This IS NOT expected if you are initializing RobertaModel from the checkpoint of a model that you expect to be exactly identical (initializing a BertForSequenceClassification model from a BertForSequenceClassification model).\n",
      "Some weights of RobertaModel were not initialized from the model checkpoint at /home/maiso/detests_2022/assets/roberta-base-bne/model and are newly initialized: ['roberta.pooler.dense.weight', 'roberta.pooler.dense.bias']\n",
      "You should probably TRAIN this model on a down-stream task to be able to use it for predictions and inference.\n"
     ]
    }
   ],
   "source": [
    "model = RoBERTaShell(epochs=2)"
   ]
  },
  {
   "cell_type": "code",
   "execution_count": 10,
   "id": "3b4c1744",
   "metadata": {},
   "outputs": [
    {
     "data": {
      "text/plain": [
       "array([[0.23892011, 0.2353014 , 0.22723988, 0.23783834, 0.19632259,\n",
       "        0.2346145 , 0.21480511, 0.21117476, 0.25011513, 0.2925716 ],\n",
       "       [0.24400994, 0.22437984, 0.22638531, 0.26157513, 0.19411083,\n",
       "        0.23751871, 0.22476159, 0.20778407, 0.24985953, 0.29584074],\n",
       "       [0.24514207, 0.22511771, 0.23182061, 0.2316478 , 0.19669582,\n",
       "        0.24674392, 0.22177468, 0.19583149, 0.24469002, 0.29753435],\n",
       "       [0.24561158, 0.22225103, 0.23365737, 0.25205854, 0.192447  ,\n",
       "        0.23386364, 0.22023258, 0.20545726, 0.24633618, 0.29165667],\n",
       "       [0.24521938, 0.23847419, 0.22307816, 0.24232401, 0.20172654,\n",
       "        0.2354462 , 0.2240749 , 0.20464464, 0.25003013, 0.28709564],\n",
       "       [0.24803473, 0.22713137, 0.2363727 , 0.23989354, 0.18567345,\n",
       "        0.22648041, 0.22653683, 0.20909703, 0.25578293, 0.2900095 ],\n",
       "       [0.24515626, 0.22495748, 0.22965299, 0.22787096, 0.19142385,\n",
       "        0.24322239, 0.2206335 , 0.21265835, 0.2544754 , 0.28454623],\n",
       "       [0.2495823 , 0.24397233, 0.22312877, 0.24973337, 0.19060972,\n",
       "        0.23318711, 0.21603154, 0.21533592, 0.25796387, 0.31317508],\n",
       "       [0.25040436, 0.23010811, 0.21903841, 0.2312635 , 0.19408278,\n",
       "        0.22566046, 0.22208817, 0.21398763, 0.25629327, 0.30588037],\n",
       "       [0.251486  , 0.22403732, 0.2193346 , 0.24773042, 0.20026593,\n",
       "        0.2448017 , 0.21776621, 0.20700122, 0.256079  , 0.2787603 ]],\n",
       "      dtype=float32)"
      ]
     },
     "execution_count": 10,
     "metadata": {},
     "output_type": "execute_result"
    }
   ],
   "source": [
    "model.load_from_pretrained('my_classifier.pt')\n",
    "model.predecir_proba(X)"
   ]
  },
  {
   "cell_type": "code",
   "execution_count": 12,
   "id": "6c1d9fd7",
   "metadata": {},
   "outputs": [
    {
     "data": {
      "text/plain": [
       "array([[ True,  True,  True,  True,  True,  True,  True,  True,  True,\n",
       "         True],\n",
       "       [ True,  True,  True,  True,  True,  True,  True,  True,  True,\n",
       "         True],\n",
       "       [ True,  True,  True,  True,  True,  True,  True,  True,  True,\n",
       "         True],\n",
       "       [ True,  True,  True,  True,  True,  True,  True,  True,  True,\n",
       "         True],\n",
       "       [ True,  True,  True,  True,  True,  True,  True,  True,  True,\n",
       "         True],\n",
       "       [ True,  True,  True,  True,  True,  True,  True,  True,  True,\n",
       "         True],\n",
       "       [ True,  True,  True,  True,  True,  True,  True,  True,  True,\n",
       "         True],\n",
       "       [ True,  True,  True,  True,  True,  True,  True,  True,  True,\n",
       "         True],\n",
       "       [ True,  True,  True,  True,  True,  True,  True,  True,  True,\n",
       "         True],\n",
       "       [ True,  True,  True,  True,  True,  True,  True,  True,  True,\n",
       "         True]])"
      ]
     },
     "execution_count": 12,
     "metadata": {},
     "output_type": "execute_result"
    }
   ],
   "source": [
    "(vec1==model.predecir_proba(X))"
   ]
  },
  {
   "cell_type": "code",
   "execution_count": 3,
   "id": "76fe3774",
   "metadata": {},
   "outputs": [],
   "source": [
    "import numpy as np\n",
    "vec1= np.array([[0.23892011, 0.2353014 , 0.22723988, 0.23783834, 0.19632259,\n",
    "        0.2346145 , 0.21480511, 0.21117476, 0.25011513, 0.2925716 ],\n",
    "       [0.24400994, 0.22437984, 0.22638531, 0.26157513, 0.19411083,\n",
    "        0.23751871, 0.22476159, 0.20778407, 0.24985953, 0.29584074],\n",
    "       [0.24514207, 0.22511771, 0.23182061, 0.2316478 , 0.19669582,\n",
    "        0.24674392, 0.22177468, 0.19583149, 0.24469002, 0.29753435],\n",
    "       [0.24561158, 0.22225103, 0.23365737, 0.25205854, 0.192447  ,\n",
    "        0.23386364, 0.22023258, 0.20545726, 0.24633618, 0.29165667],\n",
    "       [0.24521938, 0.23847419, 0.22307816, 0.24232401, 0.20172654,\n",
    "        0.2354462 , 0.2240749 , 0.20464464, 0.25003013, 0.28709564],\n",
    "       [0.24803473, 0.22713137, 0.2363727 , 0.23989354, 0.18567345,\n",
    "        0.22648041, 0.22653683, 0.20909703, 0.25578293, 0.2900095 ],\n",
    "       [0.24515626, 0.22495748, 0.22965299, 0.22787096, 0.19142385,\n",
    "        0.24322239, 0.2206335 , 0.21265835, 0.2544754 , 0.28454623],\n",
    "       [0.2495823 , 0.24397233, 0.22312877, 0.24973337, 0.19060972,\n",
    "        0.23318711, 0.21603154, 0.21533592, 0.25796387, 0.31317508],\n",
    "       [0.25040436, 0.23010811, 0.21903841, 0.2312635 , 0.19408278,\n",
    "        0.22566046, 0.22208817, 0.21398763, 0.25629327, 0.30588037],\n",
    "       [0.251486  , 0.22403732, 0.2193346 , 0.24773042, 0.20026593,\n",
    "        0.2448017 , 0.21776621, 0.20700122, 0.256079  , 0.2787603 ]],\n",
    "      dtype='float32')"
   ]
  },
  {
   "cell_type": "code",
   "execution_count": 8,
   "id": "5593db66",
   "metadata": {},
   "outputs": [
    {
     "ename": "NameError",
     "evalue": "name 'array' is not defined",
     "output_type": "error",
     "traceback": [
      "\u001b[0;31m---------------------------------------------------------------------------\u001b[0m",
      "\u001b[0;31mNameError\u001b[0m                                 Traceback (most recent call last)",
      "\u001b[0;32m/tmp/ipykernel_260803/936384365.py\u001b[0m in \u001b[0;36m<module>\u001b[0;34m\u001b[0m\n\u001b[1;32m      1\u001b[0m \u001b[0;31m#RANDOM\u001b[0m\u001b[0;34m\u001b[0m\u001b[0;34m\u001b[0m\u001b[0;34m\u001b[0m\u001b[0m\n\u001b[1;32m      2\u001b[0m \u001b[0;31m#TRAINED TWO EPOCHS 10 DATA ITEMS\u001b[0m\u001b[0;34m\u001b[0m\u001b[0;34m\u001b[0m\u001b[0;34m\u001b[0m\u001b[0m\n\u001b[0;32m----> 3\u001b[0;31m array([[0.23892011, 0.2353014 , 0.22723988, 0.23783834, 0.19632259,\n\u001b[0m\u001b[1;32m      4\u001b[0m         0.2346145 , 0.21480511, 0.21117476, 0.25011513, 0.2925716 ],\n\u001b[1;32m      5\u001b[0m        [0.24400994, 0.22437984, 0.22638531, 0.26157513, 0.19411083,\n",
      "\u001b[0;31mNameError\u001b[0m: name 'array' is not defined"
     ]
    }
   ],
   "source": [
    "#RANDOM\n",
    "array([[0.5004326 , 0.46109164, 0.5034843 , 0.46185696, 0.4864009 ,\n",
    "        0.49894887, 0.43442777, 0.44953245, 0.5079054 , 0.50760853],\n",
    "       [0.49784443, 0.46848595, 0.5005901 , 0.4543481 , 0.493546  ,\n",
    "        0.5036542 , 0.44122136, 0.4368584 , 0.4950234 , 0.5067932 ],\n",
    "       [0.49506032, 0.4580741 , 0.49856415, 0.45854717, 0.49636987,\n",
    "        0.49085352, 0.44635674, 0.44324395, 0.5046585 , 0.5092005 ],\n",
    "       [0.49612838, 0.45880616, 0.50125444, 0.45771345, 0.4959641 ,\n",
    "        0.49470803, 0.45118177, 0.44982165, 0.5022804 , 0.50288635],\n",
    "       [0.49351278, 0.46115273, 0.50477886, 0.45167696, 0.49465263,\n",
    "        0.48898357, 0.452037  , 0.44712088, 0.49792546, 0.506831  ],\n",
    "       [0.50009495, 0.46024582, 0.49763113, 0.4603608 , 0.49112847,\n",
    "        0.4959266 , 0.43946683, 0.44455063, 0.50396293, 0.5039351 ],\n",
    "       [0.49819788, 0.45607126, 0.50036305, 0.45809948, 0.4926624 ,\n",
    "        0.497333  , 0.44410458, 0.44943205, 0.5025216 , 0.5045286 ],\n",
    "       [0.5042121 , 0.45944348, 0.50050294, 0.4538815 , 0.49373344,\n",
    "        0.4956624 , 0.44652772, 0.4444887 , 0.510098  , 0.5118571 ],\n",
    "       [0.4977296 , 0.4559813 , 0.50636   , 0.46084523, 0.49843398,\n",
    "        0.49771553, 0.44519976, 0.44936672, 0.49858803, 0.50788873],\n",
    "       [0.5004955 , 0.45720285, 0.500732  , 0.45927992, 0.4941603 ,\n",
    "        0.49740812, 0.44059482, 0.4400867 , 0.5041409 , 0.509155  ]],\n",
    "      dtype=float32)\n",
    "#TRAINED TWO EPOCHS 10 DATA ITEMS\n",
    "array([[0.23892011, 0.2353014 , 0.22723988, 0.23783834, 0.19632259,\n",
    "        0.2346145 , 0.21480511, 0.21117476, 0.25011513, 0.2925716 ],\n",
    "       [0.24400994, 0.22437984, 0.22638531, 0.26157513, 0.19411083,\n",
    "        0.23751871, 0.22476159, 0.20778407, 0.24985953, 0.29584074],\n",
    "       [0.24514207, 0.22511771, 0.23182061, 0.2316478 , 0.19669582,\n",
    "        0.24674392, 0.22177468, 0.19583149, 0.24469002, 0.29753435],\n",
    "       [0.24561158, 0.22225103, 0.23365737, 0.25205854, 0.192447  ,\n",
    "        0.23386364, 0.22023258, 0.20545726, 0.24633618, 0.29165667],\n",
    "       [0.24521938, 0.23847419, 0.22307816, 0.24232401, 0.20172654,\n",
    "        0.2354462 , 0.2240749 , 0.20464464, 0.25003013, 0.28709564],\n",
    "       [0.24803473, 0.22713137, 0.2363727 , 0.23989354, 0.18567345,\n",
    "        0.22648041, 0.22653683, 0.20909703, 0.25578293, 0.2900095 ],\n",
    "       [0.24515626, 0.22495748, 0.22965299, 0.22787096, 0.19142385,\n",
    "        0.24322239, 0.2206335 , 0.21265835, 0.2544754 , 0.28454623],\n",
    "       [0.2495823 , 0.24397233, 0.22312877, 0.24973337, 0.19060972,\n",
    "        0.23318711, 0.21603154, 0.21533592, 0.25796387, 0.31317508],\n",
    "       [0.25040436, 0.23010811, 0.21903841, 0.2312635 , 0.19408278,\n",
    "        0.22566046, 0.22208817, 0.21398763, 0.25629327, 0.30588037],\n",
    "       [0.251486  , 0.22403732, 0.2193346 , 0.24773042, 0.20026593,\n",
    "        0.2448017 , 0.21776621, 0.20700122, 0.256079  , 0.2787603 ]],\n",
    "      dtype=float32)"
   ]
  },
  {
   "cell_type": "code",
   "execution_count": null,
   "id": "8f61e1dc",
   "metadata": {},
   "outputs": [],
   "source": []
  }
 ],
 "metadata": {
  "kernelspec": {
   "display_name": "Python 3 (ipykernel)",
   "language": "python",
   "name": "python3"
  },
  "language_info": {
   "codemirror_mode": {
    "name": "ipython",
    "version": 3
   },
   "file_extension": ".py",
   "mimetype": "text/x-python",
   "name": "python",
   "nbconvert_exporter": "python",
   "pygments_lexer": "ipython3",
   "version": "3.8.10"
  }
 },
 "nbformat": 4,
 "nbformat_minor": 5
}
