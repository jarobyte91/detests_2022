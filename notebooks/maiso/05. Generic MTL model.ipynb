{
 "cells": [
  {
   "cell_type": "code",
   "execution_count": 13,
   "id": "46cfe86c",
   "metadata": {},
   "outputs": [
    {
     "name": "stdout",
     "output_type": "stream",
     "text": [
      "['/cvmfs/soft.computecanada.ca/easybuild/software/2020/avx2/Core/ipykernel/2022a/lib/python3.8/site-packages/ipykernel_launcher.py', '-f', '/home/maiso/.local/share/jupyter/runtime/kernel-6af71ff6-6b61-418e-b6ac-7e9288c62d92.json']\n"
     ]
    },
    {
     "ename": "AssertionError",
     "evalue": "",
     "output_type": "error",
     "traceback": [
      "\u001b[0;31m---------------------------------------------------------------------------\u001b[0m",
      "\u001b[0;31mAssertionError\u001b[0m                            Traceback (most recent call last)",
      "\u001b[0;32m/tmp/ipykernel_211481/2015650476.py\u001b[0m in \u001b[0;36m<module>\u001b[0;34m\u001b[0m\n\u001b[1;32m     29\u001b[0m     \u001b[0;31m# TOKENIZER\u001b[0m\u001b[0;34m\u001b[0m\u001b[0;34m\u001b[0m\u001b[0;34m\u001b[0m\u001b[0m\n\u001b[1;32m     30\u001b[0m     \u001b[0mtokenizer_path\u001b[0m \u001b[0;34m=\u001b[0m \u001b[0;34mf\"/home/maiso/detests_2022/assets/{model_name}/tokenizer\"\u001b[0m\u001b[0;34m\u001b[0m\u001b[0;34m\u001b[0m\u001b[0m\n\u001b[0;32m---> 31\u001b[0;31m     \u001b[0;32massert\u001b[0m \u001b[0mos\u001b[0m\u001b[0;34m.\u001b[0m\u001b[0mpath\u001b[0m\u001b[0;34m.\u001b[0m\u001b[0mexists\u001b[0m\u001b[0;34m(\u001b[0m\u001b[0mtokenizer_path\u001b[0m\u001b[0;34m)\u001b[0m\u001b[0;34m\u001b[0m\u001b[0;34m\u001b[0m\u001b[0m\n\u001b[0m\u001b[1;32m     32\u001b[0m     \u001b[0mtokenizer\u001b[0m \u001b[0;34m=\u001b[0m \u001b[0mtransformers\u001b[0m\u001b[0;34m.\u001b[0m\u001b[0mAutoTokenizer\u001b[0m\u001b[0;34m.\u001b[0m\u001b[0mfrom_pretrained\u001b[0m\u001b[0;34m(\u001b[0m\u001b[0mtokenizer_path\u001b[0m\u001b[0;34m)\u001b[0m\u001b[0;34m\u001b[0m\u001b[0;34m\u001b[0m\u001b[0m\n\u001b[1;32m     33\u001b[0m \u001b[0;34m\u001b[0m\u001b[0m\n",
      "\u001b[0;31mAssertionError\u001b[0m: "
     ]
    }
   ],
   "source": [
    "import sys\n",
    "sys.path.append('../../library/')\n",
    "\n",
    "from juan import BetoMTL\n",
    "import juan\n",
    "import utils\n",
    "import pandas as pd\n",
    "import transformers\n",
    "import torch\n",
    "import importlib\n",
    "import os\n",
    "\n",
    "_INVALID_ARGS=1\n",
    "\n",
    "if __name__=='__main__':\n",
    "    \n",
    "    if len(sys.argv)<2:\n",
    "        print('[ ERROR ] Name of the model required.')\n",
    "        print('Usage python genericMTL.py <model_name>')\n",
    "        sys.exit(_INVALID_ARGS)\n",
    "    else:\n",
    "        print(sys.argv)\n",
    "        model_name = sys.argv[1]\n",
    "    # DATA    \n",
    "    data = pd.read_csv(\"/home/maiso/detests_2022/data/task_2.csv\")\n",
    "    labels = data.iloc[:, 1:]\n",
    "\n",
    "\n",
    "    # TOKENIZER \n",
    "    tokenizer_path = f\"/home/maiso/detests_2022/assets/{model_name}/tokenizer\"\n",
    "    assert os.path.exists(tokenizer_path)\n",
    "    tokenizer = transformers.AutoTokenizer.from_pretrained(tokenizer_path)\n",
    "\n",
    "    # MODEL\n",
    "    device = torch.device(\"cuda\" if torch.cuda.is_available() else \"cpu\")\n",
    "    model_path = f\"/home/maiso/detests_2022/assets/{model_name}/model\"\n",
    "    assert os.path.exists(model_path)\n",
    "    model = transformers.AutoModel.from_pretrained(model_path)\n",
    "    model.to(device)\n",
    "\n",
    "\n",
    "    # X & y\n",
    "    X = data.sentence.sample(100)\n",
    "    Y = labels.sample(100)\n",
    "\n",
    "\n",
    "\n",
    "\n",
    "    importlib.reload(juan)\n",
    "    importlib.reload(utils)\n",
    "    clf = juan.BetoMTL(tokenizer, model)\n",
    "    clf.to(device)\n",
    "\n",
    "\n",
    "\n",
    "    results = utils.validate_MTL_juan(\n",
    "        X,\n",
    "        Y, \n",
    "        clf, \n",
    "        progress_bar = False\n",
    "    )\n",
    "    output_path = f'/home/maiso/detests_2022/results/task_2/mm_{model_name}-MTL.csv'\n",
    "    results.to_csv(output_path)"
   ]
  },
  {
   "cell_type": "code",
   "execution_count": 18,
   "id": "3589e189",
   "metadata": {},
   "outputs": [
    {
     "name": "stderr",
     "output_type": "stream",
     "text": [
      "Some weights of the model checkpoint at /home/maiso/detests_2022/assets/bert-base-multilingual-uncased/model were not used when initializing BertModel: ['classifier.bias', 'classifier.weight']\n",
      "- This IS expected if you are initializing BertModel from the checkpoint of a model trained on another task or with another architecture (e.g. initializing a BertForSequenceClassification model from a BertForPreTraining model).\n",
      "- This IS NOT expected if you are initializing BertModel from the checkpoint of a model that you expect to be exactly identical (initializing a BertForSequenceClassification model from a BertForSequenceClassification model).\n"
     ]
    },
    {
     "name": "stdout",
     "output_type": "stream",
     "text": [
      "<class 'pandas.core.series.Series'>\n"
     ]
    }
   ],
   "source": [
    "# DATA    \n",
    "data = pd.read_csv(\"/home/maiso/detests_2022/data/task_2.csv\")\n",
    "labels = data.iloc[:, 1:]\n",
    "\n",
    "model_name = 'bert-base-multilingual-uncased'\n",
    "# TOKENIZER \n",
    "tokenizer_path = f\"/home/maiso/detests_2022/assets/{model_name}/tokenizer\"\n",
    "assert os.path.exists(tokenizer_path)\n",
    "tokenizer = transformers.AutoTokenizer.from_pretrained(tokenizer_path)\n",
    "\n",
    "# MODEL\n",
    "device = torch.device(\"cuda\" if torch.cuda.is_available() else \"cpu\")\n",
    "model_path = f\"/home/maiso/detests_2022/assets/{model_name}/model\"\n",
    "assert os.path.exists(model_path)\n",
    "model = transformers.AutoModel.from_pretrained(model_path)\n",
    "model.to(device)\n",
    "\n",
    "\n",
    "# X & y\n",
    "X = data.sentence.sample(100)\n",
    "Y = labels.sample(100)\n",
    "print(type(X))"
   ]
  },
  {
   "cell_type": "code",
   "execution_count": 20,
   "id": "e993ce4e",
   "metadata": {},
   "outputs": [
    {
     "data": {
      "text/plain": [
       "pandas.core.series.Series"
      ]
     },
     "execution_count": 20,
     "metadata": {},
     "output_type": "execute_result"
    }
   ],
   "source": [
    "type(data.sentence)"
   ]
  },
  {
   "cell_type": "code",
   "execution_count": null,
   "id": "8f2c255e",
   "metadata": {},
   "outputs": [],
   "source": []
  }
 ],
 "metadata": {
  "kernelspec": {
   "display_name": "Python 3 (ipykernel)",
   "language": "python",
   "name": "python3"
  },
  "language_info": {
   "codemirror_mode": {
    "name": "ipython",
    "version": 3
   },
   "file_extension": ".py",
   "mimetype": "text/x-python",
   "name": "python",
   "nbconvert_exporter": "python",
   "pygments_lexer": "ipython3",
   "version": "3.8.10"
  }
 },
 "nbformat": 4,
 "nbformat_minor": 5
}
