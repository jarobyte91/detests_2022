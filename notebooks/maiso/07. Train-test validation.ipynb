{
 "cells": [
  {
   "cell_type": "code",
   "execution_count": 4,
   "id": "91aa3e1b",
   "metadata": {},
   "outputs": [
    {
     "name": "stdout",
     "output_type": "stream",
     "text": [
      "Working with model bert-base-multilingual-uncased\n",
      "Loading tokenizer...\n",
      "Loading model...\n"
     ]
    },
    {
     "name": "stderr",
     "output_type": "stream",
     "text": [
      "Some weights of the model checkpoint at /home/maiso/detests_2022/assets/bert-base-multilingual-uncased/model were not used when initializing BertModel: ['classifier.bias', 'classifier.weight']\n",
      "- This IS expected if you are initializing BertModel from the checkpoint of a model trained on another task or with another architecture (e.g. initializing a BertForSequenceClassification model from a BertForPreTraining model).\n",
      "- This IS NOT expected if you are initializing BertModel from the checkpoint of a model that you expect to be exactly identical (initializing a BertForSequenceClassification model from a BertForSequenceClassification model).\n"
     ]
    }
   ],
   "source": [
    "import sys\n",
    "sys.path.append('/home/maiso/detests_2022/library')\n",
    "\n",
    "\n",
    "\n",
    "from maiso.task import get_texts, get_y\n",
    "import numpy as np\n",
    "from maiso.models import TransformersShell\n",
    "model_names = ['roberta-base-bne', 'bert-base-spanish-wwm-uncased', 'bert-base-multilingual-uncased']\n",
    "\n",
    "model = TransformersShell(model_name=model_names[2], epochs=1)\n",
    "\n",
    "output_file = 'clf2.pt'\n",
    "\n",
    "X = TransformersShell.get_X(get_texts())\n",
    "y = get_y().iloc\n",
    "\n",
    "\n",
    "# model.entrenar(X,y)\n",
    "# vec1 = model.predecir_proba(X)\n",
    "# model.save_pretrained(output_file)\n",
    "\n",
    "\n",
    "# model.load_from_pretrained(output_file) \n",
    "# print(model.get_columns())\n",
    "# model.predecir_proba(X)==vec1\n"
   ]
  },
  {
   "cell_type": "code",
   "execution_count": 6,
   "id": "2aa1a248",
   "metadata": {},
   "outputs": [
    {
     "data": {
      "text/plain": [
       "3817"
      ]
     },
     "execution_count": 6,
     "metadata": {},
     "output_type": "execute_result"
    }
   ],
   "source": [
    "cant_instancias = len(X)\n",
    "cant_instancias\n",
    "import numpy as np\n",
    "training_args = np.random.choice"
   ]
  },
  {
   "cell_type": "code",
   "execution_count": null,
   "id": "72d3300b",
   "metadata": {},
   "outputs": [],
   "source": []
  }
 ],
 "metadata": {
  "kernelspec": {
   "display_name": "Python 3 (ipykernel)",
   "language": "python",
   "name": "python3"
  },
  "language_info": {
   "codemirror_mode": {
    "name": "ipython",
    "version": 3
   },
   "file_extension": ".py",
   "mimetype": "text/x-python",
   "name": "python",
   "nbconvert_exporter": "python",
   "pygments_lexer": "ipython3",
   "version": "3.8.10"
  }
 },
 "nbformat": 4,
 "nbformat_minor": 5
}
