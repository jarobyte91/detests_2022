{
 "cells": [
  {
   "cell_type": "code",
   "execution_count": 1,
   "id": "5c6d7ec3",
   "metadata": {},
   "outputs": [
    {
     "name": "stdout",
     "output_type": "stream",
     "text": [
      "/lustre06/project/6001735/detests_2022/scripts/juan/task_1/beto\r\n"
     ]
    }
   ],
   "source": [
    "!pwd"
   ]
  },
  {
   "cell_type": "code",
   "execution_count": 2,
   "id": "cc4bdc95",
   "metadata": {},
   "outputs": [
    {
     "name": "stdout",
     "output_type": "stream",
     "text": [
      "\u001b[0m\u001b[38;5;33massets\u001b[0m/         connection.sh.no_gpu*  \u001b[38;5;33mlibrary\u001b[0m/    README.md*  \u001b[38;5;33mscripts\u001b[0m/\r\n",
      "connection.sh*  \u001b[38;5;33mdata\u001b[0m/                  \u001b[38;5;33mnotebooks\u001b[0m/  \u001b[38;5;33mresults\u001b[0m/\r\n"
     ]
    }
   ],
   "source": [
    "ls ../../../../"
   ]
  },
  {
   "cell_type": "code",
   "execution_count": null,
   "id": "67d21dc3",
   "metadata": {
    "scrolled": false
   },
   "outputs": [
    {
     "name": "stdout",
     "output_type": "stream",
     "text": [
      "Loading data...\n",
      "Loading tokenizer...\n",
      "Loading model...\n"
     ]
    },
    {
     "name": "stderr",
     "output_type": "stream",
     "text": [
      "Some weights of the model checkpoint at ../../../../assets/beto/model were not used when initializing BertModel: ['classifier.bias', 'classifier.weight']\n",
      "- This IS expected if you are initializing BertModel from the checkpoint of a model trained on another task or with another architecture (e.g. initializing a BertForSequenceClassification model from a BertForPreTraining model).\n",
      "- This IS NOT expected if you are initializing BertModel from the checkpoint of a model that you expect to be exactly identical (initializing a BertForSequenceClassification model from a BertForSequenceClassification model).\n"
     ]
    },
    {
     "name": "stdout",
     "output_type": "stream",
     "text": [
      "\n",
      "Epochs: 2\n",
      "Balanced: True\n",
      "\n",
      "Cross-validation process started...\n",
      "*** column 1 / 1 (task_1) - fold 1 / 5\n",
      "    training model...\n",
      "tensor([1.], device='cuda:0')\n"
     ]
    }
   ],
   "source": [
    "%run launch_beto.py --balanced"
   ]
  },
  {
   "cell_type": "code",
   "execution_count": null,
   "id": "c3c428ab",
   "metadata": {},
   "outputs": [],
   "source": []
  },
  {
   "cell_type": "code",
   "execution_count": null,
   "id": "863c9f8e",
   "metadata": {},
   "outputs": [],
   "source": []
  }
 ],
 "metadata": {
  "kernelspec": {
   "display_name": "Python 3 (ipykernel)",
   "language": "python",
   "name": "python3"
  },
  "language_info": {
   "codemirror_mode": {
    "name": "ipython",
    "version": 3
   },
   "file_extension": ".py",
   "mimetype": "text/x-python",
   "name": "python",
   "nbconvert_exporter": "python",
   "pygments_lexer": "ipython3",
   "version": "3.8.10"
  }
 },
 "nbformat": 4,
 "nbformat_minor": 5
}
