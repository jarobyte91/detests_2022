{
 "cells": [
  {
   "cell_type": "code",
   "execution_count": 1,
   "id": "5c6d7ec3",
   "metadata": {},
   "outputs": [
    {
     "name": "stdout",
     "output_type": "stream",
     "text": [
      "/lustre06/project/6001735/detests_2022/scripts/juan/task_2/beto_mtl\r\n"
     ]
    }
   ],
   "source": [
    "!pwd"
   ]
  },
  {
   "cell_type": "code",
   "execution_count": 2,
   "id": "cc4bdc95",
   "metadata": {},
   "outputs": [
    {
     "name": "stdout",
     "output_type": "stream",
     "text": [
      "\u001b[0m\u001b[38;5;33massets\u001b[0m/         connection.sh.no_gpu*  \u001b[38;5;33mlibrary\u001b[0m/    README.md*  \u001b[38;5;33mscripts\u001b[0m/\r\n",
      "connection.sh*  \u001b[38;5;33mdata\u001b[0m/                  \u001b[38;5;33mnotebooks\u001b[0m/  \u001b[38;5;33mresults\u001b[0m/\r\n"
     ]
    }
   ],
   "source": [
    "ls ../../../../"
   ]
  },
  {
   "cell_type": "code",
   "execution_count": 3,
   "id": "6f39f609",
   "metadata": {},
   "outputs": [
    {
     "name": "stdout",
     "output_type": "stream",
     "text": [
      "cc_t2_beto_mtl_balanced.sh  cc_t2_beto_mtl_test.sh  \u001b[0m\u001b[38;5;33mlogs\u001b[0m/\r\n",
      "cc_t2_beto_mtl_frozen.sh    clf.pt                  test_script.ipynb\r\n",
      "cc_t2_beto_mtl.sh           launch.py\r\n"
     ]
    }
   ],
   "source": [
    "ls"
   ]
  },
  {
   "cell_type": "code",
   "execution_count": 4,
   "id": "67d21dc3",
   "metadata": {
    "scrolled": false
   },
   "outputs": [
    {
     "name": "stdout",
     "output_type": "stream",
     "text": [
      "Loading data...\n",
      "data (3817, 11)\n",
      "labels (3817, 10)\n",
      "Loading tokenizer...\n",
      "Loading model...\n"
     ]
    },
    {
     "name": "stderr",
     "output_type": "stream",
     "text": [
      "Some weights of the model checkpoint at ../../../../assets/beto/model were not used when initializing BertModel: ['classifier.weight', 'classifier.bias']\n",
      "- This IS expected if you are initializing BertModel from the checkpoint of a model trained on another task or with another architecture (e.g. initializing a BertForSequenceClassification model from a BertForPreTraining model).\n",
      "- This IS NOT expected if you are initializing BertModel from the checkpoint of a model that you expect to be exactly identical (initializing a BertForSequenceClassification model from a BertForSequenceClassification model).\n"
     ]
    },
    {
     "name": "stdout",
     "output_type": "stream",
     "text": [
      "\n",
      "Epochs: 2\n",
      "\n",
      "X (10,)\n",
      "Y (10, 10)\n",
      "Cross-validation process started...\n",
      "*** fold 1 / 5\n",
      "    training model...\n",
      "Training model...\n",
      "    first step, train loss:0.7800\n",
      "    epoch: 1, train loss:0.7152, train accuracy: 0.4750\n",
      "    epoch: 2, train loss:0.5052, train accuracy: 0.8375\n",
      "    generating predictions on the train set...\n",
      "    generating predictions on the test set...\n",
      "    Total runtime: 0.02 minutes\n",
      "*** fold 2 / 5\n",
      "    training model...\n",
      "Training model...\n",
      "    first step, train loss:0.7903\n",
      "    epoch: 1, train loss:0.7170, train accuracy: 0.4625\n",
      "    epoch: 2, train loss:0.4942, train accuracy: 0.9000\n",
      "    generating predictions on the train set...\n",
      "    generating predictions on the test set...\n",
      "    Total runtime: 0.02 minutes\n",
      "*** fold 3 / 5\n",
      "    training model...\n",
      "Training model...\n",
      "    first step, train loss:0.7300\n",
      "    epoch: 1, train loss:0.7117, train accuracy: 0.5125\n",
      "    epoch: 2, train loss:0.4987, train accuracy: 0.8750\n",
      "    generating predictions on the train set...\n",
      "    generating predictions on the test set...\n",
      "    Total runtime: 0.03 minutes\n",
      "*** fold 4 / 5\n",
      "    training model...\n",
      "Training model...\n",
      "    first step, train loss:0.8111\n",
      "    epoch: 1, train loss:0.7020, train accuracy: 0.5375\n",
      "    epoch: 2, train loss:0.5124, train accuracy: 0.8750\n",
      "    generating predictions on the train set...\n",
      "    generating predictions on the test set...\n",
      "    Total runtime: 0.04 minutes\n",
      "*** fold 5 / 5\n",
      "    training model...\n",
      "Training model...\n",
      "    first step, train loss:0.8110\n",
      "    epoch: 1, train loss:0.7158, train accuracy: 0.4625\n",
      "    epoch: 2, train loss:0.4770, train accuracy: 0.9375\n",
      "    generating predictions on the train set...\n",
      "    generating predictions on the test set...\n",
      "    Total runtime: 0.04 minutes\n",
      "\n",
      "Writing to: ../../../../results/task_1/data/beto_mtl_e_2_test.csv\n",
      "\n",
      "Writing to: ../../../../results/task_2/data/beto_mtl_e_2_test.csv\n"
     ]
    }
   ],
   "source": [
    "%run launch.py"
   ]
  },
  {
   "cell_type": "code",
   "execution_count": null,
   "id": "c3c428ab",
   "metadata": {},
   "outputs": [],
   "source": []
  },
  {
   "cell_type": "code",
   "execution_count": null,
   "id": "863c9f8e",
   "metadata": {},
   "outputs": [],
   "source": []
  }
 ],
 "metadata": {
  "kernelspec": {
   "display_name": "Python 3 (ipykernel)",
   "language": "python",
   "name": "python3"
  },
  "language_info": {
   "codemirror_mode": {
    "name": "ipython",
    "version": 3
   },
   "file_extension": ".py",
   "mimetype": "text/x-python",
   "name": "python",
   "nbconvert_exporter": "python",
   "pygments_lexer": "ipython3",
   "version": "3.8.10"
  }
 },
 "nbformat": 4,
 "nbformat_minor": 5
}
