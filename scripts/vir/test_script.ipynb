{
 "cells": [
  {
   "cell_type": "code",
   "execution_count": 10,
   "id": "5c6d7ec3",
   "metadata": {},
   "outputs": [
    {
     "name": "stdout",
     "output_type": "stream",
     "text": [
      "/lustre06/project/6001735/detests_2022/scripts/vir\n"
     ]
    }
   ],
   "source": [
    "!pwd"
   ]
  },
  {
   "cell_type": "code",
   "execution_count": 8,
   "id": "cc4bdc95",
   "metadata": {},
   "outputs": [
    {
     "name": "stdout",
     "output_type": "stream",
     "text": [
      "total 292\n",
      "drwxrws---. 5 jarobyte def-emilios 25600 May 10 11:29 assets\n",
      "-rwxrwx---. 1 jarobyte def-emilios   128 May  6 12:35 connection.sh\n",
      "-rwxrwx---. 1 jarobyte def-emilios   139 May  4 14:35 connection.sh.no_gpu\n",
      "drwxrws---. 4 jarobyte def-emilios 25600 May  6 10:36 data\n",
      "drwxrwx---. 5 jarobyte def-emilios 25600 May 10 17:16 library\n",
      "drwxrws---. 6 jarobyte def-emilios 25600 Apr 28 10:54 notebooks\n",
      "-rwxrwx---. 1 jarobyte def-emilios  1065 Mar 31 16:12 README.md\n",
      "-rw-r-----. 1 jarobyte def-emilios  2699 May 10 09:22 requirements.txt\n",
      "drwxrws---. 5 jarobyte def-emilios 25600 May  5 11:53 results\n",
      "drwxrws---. 6 jarobyte def-emilios 25600 May 10 17:43 scripts\n"
     ]
    }
   ],
   "source": [
    "!ls -l ../../"
   ]
  },
  {
   "cell_type": "code",
   "execution_count": 3,
   "id": "6f39f609",
   "metadata": {},
   "outputs": [
    {
     "name": "stdout",
     "output_type": "stream",
     "text": [
      "cc_t2_beto_mtl_balanced.sh  cc_t2_beto_mtl_test.sh  \u001b[0m\u001b[38;5;33mlogs\u001b[0m/\n",
      "cc_t2_beto_mtl_frozen.sh    clf.pt                  test_script.ipynb\n",
      "cc_t2_beto_mtl.sh           launch.py\n"
     ]
    }
   ],
   "source": [
    "ls"
   ]
  },
  {
   "cell_type": "code",
   "execution_count": 13,
   "id": "67d21dc3",
   "metadata": {},
   "outputs": [
    {
     "name": "stdout",
     "output_type": "stream",
     "text": [
      "Loading data...\n",
      "data (3817, 11)\n",
      "labels (3817, 10)\n",
      "Loading tokenizer...\n",
      "Loading model...\n"
     ]
    },
    {
     "name": "stderr",
     "output_type": "stream",
     "text": [
      "Some weights of the model checkpoint at /home/vsabando/detests2022/assets/beto/model were not used when initializing BertModel: ['classifier.bias', 'classifier.weight']\n",
      "- This IS expected if you are initializing BertModel from the checkpoint of a model trained on another task or with another architecture (e.g. initializing a BertForSequenceClassification model from a BertForPreTraining model).\n",
      "- This IS NOT expected if you are initializing BertModel from the checkpoint of a model that you expect to be exactly identical (initializing a BertForSequenceClassification model from a BertForSequenceClassification model).\n"
     ]
    },
    {
     "name": "stdout",
     "output_type": "stream",
     "text": [
      "\n",
      "Epochs: 2\n",
      "\n",
      "X (10,)\n",
      "Y (10, 10)\n",
      "Cross-validation process started...\n",
      "*** fold 1 / 5\n",
      "    training model...\n",
      "Training model...\n",
      "    first step, train loss:0.7149\n",
      "    epoch: 1, train loss:0.7149, train accuracy: 0.4625\n",
      "    epoch: 2, train loss:0.6258, train accuracy: 0.6375\n",
      "    generating predictions on the train set...\n",
      "    generating predictions on the test set...\n",
      "    Total runtime: 0.01 minutes\n",
      "*** fold 2 / 5\n",
      "    training model...\n",
      "Training model...\n",
      "    first step, train loss:0.6835\n",
      "    epoch: 1, train loss:0.6835, train accuracy: 0.6000\n",
      "    epoch: 2, train loss:0.6288, train accuracy: 0.6250\n",
      "    generating predictions on the train set...\n",
      "    generating predictions on the test set...\n",
      "    Total runtime: 0.02 minutes\n",
      "*** fold 3 / 5\n",
      "    training model...\n",
      "Training model...\n",
      "    first step, train loss:0.6924\n",
      "    epoch: 1, train loss:0.6924, train accuracy: 0.4875\n",
      "    epoch: 2, train loss:0.6051, train accuracy: 0.6750\n",
      "    generating predictions on the train set...\n",
      "    generating predictions on the test set...\n",
      "    Total runtime: 0.02 minutes\n",
      "*** fold 4 / 5\n",
      "    training model...\n",
      "Training model...\n",
      "    first step, train loss:0.7040\n",
      "    epoch: 1, train loss:0.7040, train accuracy: 0.5250\n",
      "    epoch: 2, train loss:0.6284, train accuracy: 0.6250\n",
      "    generating predictions on the train set...\n",
      "    generating predictions on the test set...\n",
      "    Total runtime: 0.03 minutes\n",
      "*** fold 5 / 5\n",
      "    training model...\n",
      "Training model...\n",
      "    first step, train loss:0.7188\n",
      "    epoch: 1, train loss:0.7188, train accuracy: 0.4625\n",
      "    epoch: 2, train loss:0.6333, train accuracy: 0.6125\n",
      "    generating predictions on the train set...\n",
      "    generating predictions on the test set...\n",
      "    Total runtime: 0.03 minutes\n",
      "\n",
      "Writing to: /home/vsabando/detests2022/results/task_1/data/beto_mtl_weighed_e_2_test.csv\n",
      "\n",
      "Writing to: /home/vsabando/detests2022/results/task_2/data/beto_mtl_weighed_e_2_test.csv\n"
     ]
    }
   ],
   "source": [
    "%run launch.py"
   ]
  },
  {
   "cell_type": "code",
   "execution_count": null,
   "id": "c3c428ab",
   "metadata": {},
   "outputs": [],
   "source": []
  },
  {
   "cell_type": "code",
   "execution_count": null,
   "id": "863c9f8e",
   "metadata": {},
   "outputs": [],
   "source": []
  }
 ],
 "metadata": {
  "kernelspec": {
   "display_name": "Python 3 (ipykernel)",
   "language": "python",
   "name": "python3"
  },
  "language_info": {
   "codemirror_mode": {
    "name": "ipython",
    "version": 3
   },
   "file_extension": ".py",
   "mimetype": "text/x-python",
   "name": "python",
   "nbconvert_exporter": "python",
   "pygments_lexer": "ipython3",
   "version": "3.8.10"
  }
 },
 "nbformat": 4,
 "nbformat_minor": 5
}
